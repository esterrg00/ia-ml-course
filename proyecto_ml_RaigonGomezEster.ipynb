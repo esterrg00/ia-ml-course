{
 "cells": [
  {
   "cell_type": "markdown",
   "metadata": {},
   "source": [
    "# Proyecto de aprendizaje automático\n",
    "\n",
    "Al fin han concedido un proyecto para tu *startup* de analítica con amplios conocimientos de aprendizaje automático y AI!!!! \n",
    "\n",
    "La **compañía de hoteles Disfrutín**, con hoteles ubicados por todo el mundo, está interesada en que construyas un modelo de clasificación de cancelaciones basándote en variables disponibles.\n",
    "\n",
    "Para ello te ha proporcionado tres tablas:\n",
    "- `bookings.csv`: contiene información de reservas\n",
    "- `hotels.csv`:  contiene información sobre características de los hoteles\n",
    "- `people.csv`: contiene información sobre los clientes del hotel\n",
    "\n",
    "**La variable objetivo a estudiar es `is_canceled` y se ubica en la tabla `bookings`**"
   ]
  },
  {
   "cell_type": "code",
   "execution_count": 136,
   "metadata": {},
   "outputs": [],
   "source": [
    "import pandas as pd\n",
    "import matplotlib.pyplot as plt\n",
    "import numpy as np"
   ]
  },
  {
   "cell_type": "code",
   "execution_count": 137,
   "metadata": {},
   "outputs": [],
   "source": [
    "book = pd.read_csv('bookings.csv')\n",
    "hotel = pd.read_csv('hotels.csv')\n",
    "ppl = pd.read_csv('people.csv')"
   ]
  },
  {
   "cell_type": "code",
   "execution_count": 138,
   "metadata": {},
   "outputs": [
    {
     "data": {
      "text/html": [
       "<div>\n",
       "<style scoped>\n",
       "    .dataframe tbody tr th:only-of-type {\n",
       "        vertical-align: middle;\n",
       "    }\n",
       "\n",
       "    .dataframe tbody tr th {\n",
       "        vertical-align: top;\n",
       "    }\n",
       "\n",
       "    .dataframe thead th {\n",
       "        text-align: right;\n",
       "    }\n",
       "</style>\n",
       "<table border=\"1\" class=\"dataframe\">\n",
       "  <thead>\n",
       "    <tr style=\"text-align: right;\">\n",
       "      <th></th>\n",
       "      <th>booking_id</th>\n",
       "      <th>name</th>\n",
       "      <th>hotel</th>\n",
       "      <th>booking_timestamp</th>\n",
       "      <th>n_rooms</th>\n",
       "      <th>room_type</th>\n",
       "      <th>children</th>\n",
       "      <th>arrival_timestamp</th>\n",
       "      <th>leave_timestamp</th>\n",
       "      <th>guests</th>\n",
       "      <th>total_cost</th>\n",
       "      <th>is_canceled</th>\n",
       "    </tr>\n",
       "  </thead>\n",
       "  <tbody>\n",
       "    <tr>\n",
       "      <th>0</th>\n",
       "      <td>cab0388e-1264-4029-be95-19739edea0f4</td>\n",
       "      <td>Marcia Salazar</td>\n",
       "      <td>EUZ</td>\n",
       "      <td>2022-11-19 00:48:25</td>\n",
       "      <td>1</td>\n",
       "      <td>single</td>\n",
       "      <td>0</td>\n",
       "      <td>2023-01-10</td>\n",
       "      <td>2023-01-24</td>\n",
       "      <td>1</td>\n",
       "      <td>873.17</td>\n",
       "      <td>False</td>\n",
       "    </tr>\n",
       "    <tr>\n",
       "      <th>1</th>\n",
       "      <td>d82441af-f8de-4f23-805a-960c2b2eca4c</td>\n",
       "      <td>Shawn Campbell</td>\n",
       "      <td>SQC</td>\n",
       "      <td>2022-11-15 17:19:27</td>\n",
       "      <td>2</td>\n",
       "      <td>triple</td>\n",
       "      <td>1</td>\n",
       "      <td>2022-12-25</td>\n",
       "      <td>2022-12-26</td>\n",
       "      <td>6</td>\n",
       "      <td>329.69</td>\n",
       "      <td>False</td>\n",
       "    </tr>\n",
       "    <tr>\n",
       "      <th>2</th>\n",
       "      <td>2ee5cafb-827a-4abc-b06f-8275440d6e2e</td>\n",
       "      <td>Laurie Morton</td>\n",
       "      <td>ZDC</td>\n",
       "      <td>2022-07-10 14:21:44</td>\n",
       "      <td>2</td>\n",
       "      <td>suite</td>\n",
       "      <td>0</td>\n",
       "      <td>2022-08-16</td>\n",
       "      <td>2022-08-24</td>\n",
       "      <td>2</td>\n",
       "      <td>6330.86</td>\n",
       "      <td>True</td>\n",
       "    </tr>\n",
       "    <tr>\n",
       "      <th>3</th>\n",
       "      <td>1269ef8c-5a35-423b-8b73-556183605dcb</td>\n",
       "      <td>Catherine Ellis</td>\n",
       "      <td>GZD</td>\n",
       "      <td>2022-10-06 10:23:33</td>\n",
       "      <td>1</td>\n",
       "      <td>single</td>\n",
       "      <td>1</td>\n",
       "      <td>2022-11-20</td>\n",
       "      <td>2022-12-02</td>\n",
       "      <td>1</td>\n",
       "      <td>805.58</td>\n",
       "      <td>False</td>\n",
       "    </tr>\n",
       "    <tr>\n",
       "      <th>4</th>\n",
       "      <td>7100d522-cccb-47b8-9e0d-ee4e83e934c9</td>\n",
       "      <td>Ryan Cameron</td>\n",
       "      <td>TXL</td>\n",
       "      <td>2022-03-12 01:26:47</td>\n",
       "      <td>2</td>\n",
       "      <td>double</td>\n",
       "      <td>0</td>\n",
       "      <td>2022-05-15</td>\n",
       "      <td>2022-05-27</td>\n",
       "      <td>4</td>\n",
       "      <td>2583.24</td>\n",
       "      <td>False</td>\n",
       "    </tr>\n",
       "  </tbody>\n",
       "</table>\n",
       "</div>"
      ],
      "text/plain": [
       "                             booking_id             name hotel  \\\n",
       "0  cab0388e-1264-4029-be95-19739edea0f4   Marcia Salazar   EUZ   \n",
       "1  d82441af-f8de-4f23-805a-960c2b2eca4c   Shawn Campbell   SQC   \n",
       "2  2ee5cafb-827a-4abc-b06f-8275440d6e2e    Laurie Morton   ZDC   \n",
       "3  1269ef8c-5a35-423b-8b73-556183605dcb  Catherine Ellis   GZD   \n",
       "4  7100d522-cccb-47b8-9e0d-ee4e83e934c9     Ryan Cameron   TXL   \n",
       "\n",
       "     booking_timestamp  n_rooms room_type  children arrival_timestamp  \\\n",
       "0  2022-11-19 00:48:25        1    single         0        2023-01-10   \n",
       "1  2022-11-15 17:19:27        2    triple         1        2022-12-25   \n",
       "2  2022-07-10 14:21:44        2     suite         0        2022-08-16   \n",
       "3  2022-10-06 10:23:33        1    single         1        2022-11-20   \n",
       "4  2022-03-12 01:26:47        2    double         0        2022-05-15   \n",
       "\n",
       "  leave_timestamp  guests  total_cost  is_canceled  \n",
       "0      2023-01-24       1      873.17        False  \n",
       "1      2022-12-26       6      329.69        False  \n",
       "2      2022-08-24       2     6330.86         True  \n",
       "3      2022-12-02       1      805.58        False  \n",
       "4      2022-05-27       4     2583.24        False  "
      ]
     },
     "execution_count": 138,
     "metadata": {},
     "output_type": "execute_result"
    }
   ],
   "source": [
    "book.head()"
   ]
  },
  {
   "cell_type": "code",
   "execution_count": 139,
   "metadata": {},
   "outputs": [
    {
     "data": {
      "text/plain": [
       "(5000, 12)"
      ]
     },
     "execution_count": 139,
     "metadata": {},
     "output_type": "execute_result"
    }
   ],
   "source": [
    "book.shape"
   ]
  },
  {
   "cell_type": "code",
   "execution_count": 140,
   "metadata": {},
   "outputs": [
    {
     "data": {
      "text/html": [
       "<div>\n",
       "<style scoped>\n",
       "    .dataframe tbody tr th:only-of-type {\n",
       "        vertical-align: middle;\n",
       "    }\n",
       "\n",
       "    .dataframe tbody tr th {\n",
       "        vertical-align: top;\n",
       "    }\n",
       "\n",
       "    .dataframe thead th {\n",
       "        text-align: right;\n",
       "    }\n",
       "</style>\n",
       "<table border=\"1\" class=\"dataframe\">\n",
       "  <thead>\n",
       "    <tr style=\"text-align: right;\">\n",
       "      <th></th>\n",
       "      <th>hotel</th>\n",
       "      <th>hotel_country</th>\n",
       "      <th>has_pool</th>\n",
       "      <th>has_spa</th>\n",
       "      <th>has_theatre</th>\n",
       "      <th>stars</th>\n",
       "    </tr>\n",
       "  </thead>\n",
       "  <tbody>\n",
       "    <tr>\n",
       "      <th>0</th>\n",
       "      <td>PLP</td>\n",
       "      <td>Japan</td>\n",
       "      <td>True</td>\n",
       "      <td>True</td>\n",
       "      <td>False</td>\n",
       "      <td>1</td>\n",
       "    </tr>\n",
       "    <tr>\n",
       "      <th>1</th>\n",
       "      <td>HHO</td>\n",
       "      <td>Chad</td>\n",
       "      <td>False</td>\n",
       "      <td>False</td>\n",
       "      <td>True</td>\n",
       "      <td>5</td>\n",
       "    </tr>\n",
       "    <tr>\n",
       "      <th>2</th>\n",
       "      <td>IKL</td>\n",
       "      <td>Sierra Leone</td>\n",
       "      <td>False</td>\n",
       "      <td>False</td>\n",
       "      <td>True</td>\n",
       "      <td>2</td>\n",
       "    </tr>\n",
       "    <tr>\n",
       "      <th>3</th>\n",
       "      <td>CSM</td>\n",
       "      <td>Bangladesh</td>\n",
       "      <td>False</td>\n",
       "      <td>True</td>\n",
       "      <td>True</td>\n",
       "      <td>5</td>\n",
       "    </tr>\n",
       "    <tr>\n",
       "      <th>4</th>\n",
       "      <td>PQL</td>\n",
       "      <td>Fiji</td>\n",
       "      <td>False</td>\n",
       "      <td>False</td>\n",
       "      <td>False</td>\n",
       "      <td>4</td>\n",
       "    </tr>\n",
       "  </tbody>\n",
       "</table>\n",
       "</div>"
      ],
      "text/plain": [
       "  hotel hotel_country  has_pool  has_spa  has_theatre  stars\n",
       "0   PLP         Japan      True     True        False      1\n",
       "1   HHO          Chad     False    False         True      5\n",
       "2   IKL  Sierra Leone     False    False         True      2\n",
       "3   CSM    Bangladesh     False     True         True      5\n",
       "4   PQL          Fiji     False    False        False      4"
      ]
     },
     "execution_count": 140,
     "metadata": {},
     "output_type": "execute_result"
    }
   ],
   "source": [
    "hotel.head()"
   ]
  },
  {
   "cell_type": "code",
   "execution_count": 141,
   "metadata": {},
   "outputs": [
    {
     "data": {
      "text/html": [
       "<div>\n",
       "<style scoped>\n",
       "    .dataframe tbody tr th:only-of-type {\n",
       "        vertical-align: middle;\n",
       "    }\n",
       "\n",
       "    .dataframe tbody tr th {\n",
       "        vertical-align: top;\n",
       "    }\n",
       "\n",
       "    .dataframe thead th {\n",
       "        text-align: right;\n",
       "    }\n",
       "</style>\n",
       "<table border=\"1\" class=\"dataframe\">\n",
       "  <thead>\n",
       "    <tr style=\"text-align: right;\">\n",
       "      <th></th>\n",
       "      <th>name</th>\n",
       "      <th>country</th>\n",
       "      <th>date_of_birth</th>\n",
       "    </tr>\n",
       "  </thead>\n",
       "  <tbody>\n",
       "    <tr>\n",
       "      <th>0</th>\n",
       "      <td>Todd Floyd</td>\n",
       "      <td>Malaysia</td>\n",
       "      <td>1995-12-14</td>\n",
       "    </tr>\n",
       "    <tr>\n",
       "      <th>1</th>\n",
       "      <td>Anthony Scott</td>\n",
       "      <td>Bangladesh</td>\n",
       "      <td>1996-08-04</td>\n",
       "    </tr>\n",
       "    <tr>\n",
       "      <th>2</th>\n",
       "      <td>Megan Martinez</td>\n",
       "      <td>Niger</td>\n",
       "      <td>1968-04-13</td>\n",
       "    </tr>\n",
       "    <tr>\n",
       "      <th>3</th>\n",
       "      <td>Carmen Hall</td>\n",
       "      <td>Cote d'Ivoire</td>\n",
       "      <td>1990-03-07</td>\n",
       "    </tr>\n",
       "    <tr>\n",
       "      <th>4</th>\n",
       "      <td>Ryan Miller</td>\n",
       "      <td>Malawi</td>\n",
       "      <td>1967-08-24</td>\n",
       "    </tr>\n",
       "  </tbody>\n",
       "</table>\n",
       "</div>"
      ],
      "text/plain": [
       "             name        country date_of_birth\n",
       "0      Todd Floyd       Malaysia    1995-12-14\n",
       "1   Anthony Scott     Bangladesh    1996-08-04\n",
       "2  Megan Martinez          Niger    1968-04-13\n",
       "3     Carmen Hall  Cote d'Ivoire    1990-03-07\n",
       "4     Ryan Miller         Malawi    1967-08-24"
      ]
     },
     "execution_count": 141,
     "metadata": {},
     "output_type": "execute_result"
    }
   ],
   "source": [
    "ppl.head()"
   ]
  },
  {
   "cell_type": "code",
   "execution_count": 142,
   "metadata": {},
   "outputs": [
    {
     "data": {
      "text/plain": [
       "(2100, 3)"
      ]
     },
     "execution_count": 142,
     "metadata": {},
     "output_type": "execute_result"
    }
   ],
   "source": [
    "ppl.shape"
   ]
  },
  {
   "cell_type": "markdown",
   "metadata": {},
   "source": [
    "## Creación de conjuntos de datos\n",
    "\n",
    "- Construye el conjunto de datos final basándote en las tres tablas proporcionadas, haciendo **merge** basado en las columnas naturales (`hotel` y `name`)\n",
    "- Realiza una EDA con las agrupaciones que consideres y gráficos para intentar ver la influencia de algunas variables sobre la variable objetivo.\n",
    "- Realiza ingeniería de atributos para ampliar los atributos iniciales con un mayor conjunto.\n",
    "- Realiza una EDA para observar el impacto potencial de las variables creadas sobre la variable objetivo.\n",
    "\n",
    "Tras este proceso, puede que tengas alguna idea de qué variables se pueden usar, cuáles son mejores predictores potenciales para estimar si se cancela o no la reserva, así como cuáles son categóricas, y cuáles son dummies.\n",
    "\n",
    "- Genera la tabla final con todas las variables categóricas que correspondan transformadas en dummies."
   ]
  },
  {
   "cell_type": "markdown",
   "metadata": {},
   "source": [
    "### EDA inicial"
   ]
  },
  {
   "cell_type": "code",
   "execution_count": 143,
   "metadata": {},
   "outputs": [
    {
     "data": {
      "text/plain": [
       "booking_id           0\n",
       "name                 0\n",
       "hotel                0\n",
       "booking_timestamp    0\n",
       "n_rooms              0\n",
       "room_type            0\n",
       "children             0\n",
       "arrival_timestamp    0\n",
       "leave_timestamp      0\n",
       "guests               0\n",
       "total_cost           0\n",
       "is_canceled          0\n",
       "dtype: int64"
      ]
     },
     "execution_count": 143,
     "metadata": {},
     "output_type": "execute_result"
    }
   ],
   "source": [
    "book.isnull().sum()"
   ]
  },
  {
   "cell_type": "code",
   "execution_count": 144,
   "metadata": {},
   "outputs": [
    {
     "data": {
      "text/plain": [
       "hotel            0\n",
       "hotel_country    0\n",
       "has_pool         0\n",
       "has_spa          0\n",
       "has_theatre      0\n",
       "stars            0\n",
       "dtype: int64"
      ]
     },
     "execution_count": 144,
     "metadata": {},
     "output_type": "execute_result"
    }
   ],
   "source": [
    "hotel.isnull().sum()"
   ]
  },
  {
   "cell_type": "code",
   "execution_count": 145,
   "metadata": {},
   "outputs": [
    {
     "data": {
      "text/plain": [
       "name             0\n",
       "country          0\n",
       "date_of_birth    0\n",
       "dtype: int64"
      ]
     },
     "execution_count": 145,
     "metadata": {},
     "output_type": "execute_result"
    }
   ],
   "source": [
    "ppl.isnull().sum()"
   ]
  },
  {
   "cell_type": "code",
   "execution_count": 244,
   "metadata": {},
   "outputs": [
    {
     "data": {
      "text/html": [
       "<div>\n",
       "<style scoped>\n",
       "    .dataframe tbody tr th:only-of-type {\n",
       "        vertical-align: middle;\n",
       "    }\n",
       "\n",
       "    .dataframe tbody tr th {\n",
       "        vertical-align: top;\n",
       "    }\n",
       "\n",
       "    .dataframe thead th {\n",
       "        text-align: right;\n",
       "    }\n",
       "</style>\n",
       "<table border=\"1\" class=\"dataframe\">\n",
       "  <thead>\n",
       "    <tr style=\"text-align: right;\">\n",
       "      <th></th>\n",
       "      <th>booking_id</th>\n",
       "      <th>name</th>\n",
       "      <th>hotel</th>\n",
       "      <th>booking_timestamp</th>\n",
       "      <th>n_rooms</th>\n",
       "      <th>room_type</th>\n",
       "      <th>children</th>\n",
       "      <th>arrival_timestamp</th>\n",
       "      <th>leave_timestamp</th>\n",
       "      <th>guests</th>\n",
       "      <th>total_cost</th>\n",
       "      <th>is_canceled</th>\n",
       "      <th>country</th>\n",
       "      <th>date_of_birth</th>\n",
       "      <th>hotel_country</th>\n",
       "      <th>has_pool</th>\n",
       "      <th>has_spa</th>\n",
       "      <th>has_theatre</th>\n",
       "      <th>stars</th>\n",
       "    </tr>\n",
       "  </thead>\n",
       "  <tbody>\n",
       "    <tr>\n",
       "      <th>0</th>\n",
       "      <td>cab0388e-1264-4029-be95-19739edea0f4</td>\n",
       "      <td>Marcia Salazar</td>\n",
       "      <td>EUZ</td>\n",
       "      <td>2022-11-19 00:48:25</td>\n",
       "      <td>1</td>\n",
       "      <td>single</td>\n",
       "      <td>0</td>\n",
       "      <td>2023-01-10</td>\n",
       "      <td>2023-01-24</td>\n",
       "      <td>1</td>\n",
       "      <td>873.17</td>\n",
       "      <td>False</td>\n",
       "      <td>Guam</td>\n",
       "      <td>1970-01-26</td>\n",
       "      <td>Bouvet Island (Bouvetoya)</td>\n",
       "      <td>True</td>\n",
       "      <td>False</td>\n",
       "      <td>True</td>\n",
       "      <td>1</td>\n",
       "    </tr>\n",
       "    <tr>\n",
       "      <th>1</th>\n",
       "      <td>d82441af-f8de-4f23-805a-960c2b2eca4c</td>\n",
       "      <td>Shawn Campbell</td>\n",
       "      <td>SQC</td>\n",
       "      <td>2022-11-15 17:19:27</td>\n",
       "      <td>2</td>\n",
       "      <td>triple</td>\n",
       "      <td>1</td>\n",
       "      <td>2022-12-25</td>\n",
       "      <td>2022-12-26</td>\n",
       "      <td>6</td>\n",
       "      <td>329.69</td>\n",
       "      <td>False</td>\n",
       "      <td>Nauru</td>\n",
       "      <td>2002-09-23</td>\n",
       "      <td>Cote d'Ivoire</td>\n",
       "      <td>False</td>\n",
       "      <td>True</td>\n",
       "      <td>True</td>\n",
       "      <td>2</td>\n",
       "    </tr>\n",
       "    <tr>\n",
       "      <th>2</th>\n",
       "      <td>2ee5cafb-827a-4abc-b06f-8275440d6e2e</td>\n",
       "      <td>Laurie Morton</td>\n",
       "      <td>ZDC</td>\n",
       "      <td>2022-07-10 14:21:44</td>\n",
       "      <td>2</td>\n",
       "      <td>suite</td>\n",
       "      <td>0</td>\n",
       "      <td>2022-08-16</td>\n",
       "      <td>2022-08-24</td>\n",
       "      <td>2</td>\n",
       "      <td>6330.86</td>\n",
       "      <td>True</td>\n",
       "      <td>Palau</td>\n",
       "      <td>1954-01-14</td>\n",
       "      <td>Malaysia</td>\n",
       "      <td>False</td>\n",
       "      <td>True</td>\n",
       "      <td>True</td>\n",
       "      <td>1</td>\n",
       "    </tr>\n",
       "    <tr>\n",
       "      <th>3</th>\n",
       "      <td>1269ef8c-5a35-423b-8b73-556183605dcb</td>\n",
       "      <td>Catherine Ellis</td>\n",
       "      <td>GZD</td>\n",
       "      <td>2022-10-06 10:23:33</td>\n",
       "      <td>1</td>\n",
       "      <td>single</td>\n",
       "      <td>1</td>\n",
       "      <td>2022-11-20</td>\n",
       "      <td>2022-12-02</td>\n",
       "      <td>1</td>\n",
       "      <td>805.58</td>\n",
       "      <td>False</td>\n",
       "      <td>Sierra Leone</td>\n",
       "      <td>1973-12-21</td>\n",
       "      <td>Mexico</td>\n",
       "      <td>True</td>\n",
       "      <td>True</td>\n",
       "      <td>True</td>\n",
       "      <td>4</td>\n",
       "    </tr>\n",
       "    <tr>\n",
       "      <th>4</th>\n",
       "      <td>7100d522-cccb-47b8-9e0d-ee4e83e934c9</td>\n",
       "      <td>Ryan Cameron</td>\n",
       "      <td>TXL</td>\n",
       "      <td>2022-03-12 01:26:47</td>\n",
       "      <td>2</td>\n",
       "      <td>double</td>\n",
       "      <td>0</td>\n",
       "      <td>2022-05-15</td>\n",
       "      <td>2022-05-27</td>\n",
       "      <td>4</td>\n",
       "      <td>2583.24</td>\n",
       "      <td>False</td>\n",
       "      <td>Tokelau</td>\n",
       "      <td>1950-08-31</td>\n",
       "      <td>Mauritania</td>\n",
       "      <td>False</td>\n",
       "      <td>True</td>\n",
       "      <td>True</td>\n",
       "      <td>1</td>\n",
       "    </tr>\n",
       "  </tbody>\n",
       "</table>\n",
       "</div>"
      ],
      "text/plain": [
       "                             booking_id             name hotel  \\\n",
       "0  cab0388e-1264-4029-be95-19739edea0f4   Marcia Salazar   EUZ   \n",
       "1  d82441af-f8de-4f23-805a-960c2b2eca4c   Shawn Campbell   SQC   \n",
       "2  2ee5cafb-827a-4abc-b06f-8275440d6e2e    Laurie Morton   ZDC   \n",
       "3  1269ef8c-5a35-423b-8b73-556183605dcb  Catherine Ellis   GZD   \n",
       "4  7100d522-cccb-47b8-9e0d-ee4e83e934c9     Ryan Cameron   TXL   \n",
       "\n",
       "     booking_timestamp  n_rooms room_type  children arrival_timestamp  \\\n",
       "0  2022-11-19 00:48:25        1    single         0        2023-01-10   \n",
       "1  2022-11-15 17:19:27        2    triple         1        2022-12-25   \n",
       "2  2022-07-10 14:21:44        2     suite         0        2022-08-16   \n",
       "3  2022-10-06 10:23:33        1    single         1        2022-11-20   \n",
       "4  2022-03-12 01:26:47        2    double         0        2022-05-15   \n",
       "\n",
       "  leave_timestamp  guests  total_cost  is_canceled       country  \\\n",
       "0      2023-01-24       1      873.17        False          Guam   \n",
       "1      2022-12-26       6      329.69        False         Nauru   \n",
       "2      2022-08-24       2     6330.86         True         Palau   \n",
       "3      2022-12-02       1      805.58        False  Sierra Leone   \n",
       "4      2022-05-27       4     2583.24        False       Tokelau   \n",
       "\n",
       "  date_of_birth              hotel_country  has_pool  has_spa  has_theatre  \\\n",
       "0    1970-01-26  Bouvet Island (Bouvetoya)      True    False         True   \n",
       "1    2002-09-23              Cote d'Ivoire     False     True         True   \n",
       "2    1954-01-14                   Malaysia     False     True         True   \n",
       "3    1973-12-21                     Mexico      True     True         True   \n",
       "4    1950-08-31                 Mauritania     False     True         True   \n",
       "\n",
       "   stars  \n",
       "0      1  \n",
       "1      2  \n",
       "2      1  \n",
       "3      4  \n",
       "4      1  "
      ]
     },
     "execution_count": 244,
     "metadata": {},
     "output_type": "execute_result"
    }
   ],
   "source": [
    "df = book.merge(ppl, on='name', how='left').merge(hotel, on = 'hotel', how ='left')\n",
    "df.head()"
   ]
  },
  {
   "cell_type": "code",
   "execution_count": 147,
   "metadata": {},
   "outputs": [
    {
     "data": {
      "text/plain": [
       "(5000, 19)"
      ]
     },
     "execution_count": 147,
     "metadata": {},
     "output_type": "execute_result"
    }
   ],
   "source": [
    "df.shape"
   ]
  },
  {
   "cell_type": "code",
   "execution_count": 245,
   "metadata": {},
   "outputs": [],
   "source": [
    "df['is_canceled'] = df['is_canceled'].astype(int)\n",
    "df['has_pool'] = df['has_pool'].astype(int)\n",
    "df['has_spa'] = df['has_spa'].astype(int) \n",
    "df['has_theatre'] = df['has_theatre'].astype(int)"
   ]
  },
  {
   "cell_type": "code",
   "execution_count": 149,
   "metadata": {
    "scrolled": true
   },
   "outputs": [
    {
     "data": {
      "text/html": [
       "<div>\n",
       "<style scoped>\n",
       "    .dataframe tbody tr th:only-of-type {\n",
       "        vertical-align: middle;\n",
       "    }\n",
       "\n",
       "    .dataframe tbody tr th {\n",
       "        vertical-align: top;\n",
       "    }\n",
       "\n",
       "    .dataframe thead th {\n",
       "        text-align: right;\n",
       "    }\n",
       "</style>\n",
       "<table border=\"1\" class=\"dataframe\">\n",
       "  <thead>\n",
       "    <tr style=\"text-align: right;\">\n",
       "      <th></th>\n",
       "      <th>booking_id</th>\n",
       "      <th>name</th>\n",
       "      <th>hotel</th>\n",
       "      <th>booking_timestamp</th>\n",
       "      <th>n_rooms</th>\n",
       "      <th>room_type</th>\n",
       "      <th>children</th>\n",
       "      <th>arrival_timestamp</th>\n",
       "      <th>leave_timestamp</th>\n",
       "      <th>guests</th>\n",
       "      <th>total_cost</th>\n",
       "      <th>is_canceled</th>\n",
       "      <th>country</th>\n",
       "      <th>date_of_birth</th>\n",
       "      <th>hotel_country</th>\n",
       "      <th>has_pool</th>\n",
       "      <th>has_spa</th>\n",
       "      <th>has_theatre</th>\n",
       "      <th>stars</th>\n",
       "    </tr>\n",
       "  </thead>\n",
       "  <tbody>\n",
       "    <tr>\n",
       "      <th>3744</th>\n",
       "      <td>4abf5fdd-a095-4e41-a4b2-25195d0ef162</td>\n",
       "      <td>Carrie Johnson</td>\n",
       "      <td>BXO</td>\n",
       "      <td>2022-10-24 19:23:02</td>\n",
       "      <td>4</td>\n",
       "      <td>triple</td>\n",
       "      <td>2</td>\n",
       "      <td>2022-11-03</td>\n",
       "      <td>2022-11-04</td>\n",
       "      <td>12</td>\n",
       "      <td>663.19</td>\n",
       "      <td>1</td>\n",
       "      <td>Malaysia</td>\n",
       "      <td>1974-07-24</td>\n",
       "      <td>Niger</td>\n",
       "      <td>1</td>\n",
       "      <td>0</td>\n",
       "      <td>0</td>\n",
       "      <td>5</td>\n",
       "    </tr>\n",
       "    <tr>\n",
       "      <th>1863</th>\n",
       "      <td>98a4c505-70e1-44e8-9266-9addc0f3054d</td>\n",
       "      <td>David Ramirez</td>\n",
       "      <td>PEV</td>\n",
       "      <td>2022-04-18 14:40:20</td>\n",
       "      <td>1</td>\n",
       "      <td>triple</td>\n",
       "      <td>0</td>\n",
       "      <td>2022-06-17</td>\n",
       "      <td>2022-06-25</td>\n",
       "      <td>3</td>\n",
       "      <td>1277.51</td>\n",
       "      <td>0</td>\n",
       "      <td>Chad</td>\n",
       "      <td>1986-04-12</td>\n",
       "      <td>Belarus</td>\n",
       "      <td>0</td>\n",
       "      <td>1</td>\n",
       "      <td>1</td>\n",
       "      <td>3</td>\n",
       "    </tr>\n",
       "    <tr>\n",
       "      <th>2051</th>\n",
       "      <td>9260f9d9-7a3a-452c-8381-efce0381e949</td>\n",
       "      <td>Nancy Hogan</td>\n",
       "      <td>GZD</td>\n",
       "      <td>2022-04-03 00:15:29</td>\n",
       "      <td>2</td>\n",
       "      <td>single</td>\n",
       "      <td>0</td>\n",
       "      <td>2022-06-05</td>\n",
       "      <td>2022-06-14</td>\n",
       "      <td>2</td>\n",
       "      <td>1456.12</td>\n",
       "      <td>1</td>\n",
       "      <td>Malawi</td>\n",
       "      <td>1964-05-13</td>\n",
       "      <td>Mexico</td>\n",
       "      <td>1</td>\n",
       "      <td>1</td>\n",
       "      <td>1</td>\n",
       "      <td>4</td>\n",
       "    </tr>\n",
       "  </tbody>\n",
       "</table>\n",
       "</div>"
      ],
      "text/plain": [
       "                                booking_id            name hotel  \\\n",
       "3744  4abf5fdd-a095-4e41-a4b2-25195d0ef162  Carrie Johnson   BXO   \n",
       "1863  98a4c505-70e1-44e8-9266-9addc0f3054d   David Ramirez   PEV   \n",
       "2051  9260f9d9-7a3a-452c-8381-efce0381e949     Nancy Hogan   GZD   \n",
       "\n",
       "        booking_timestamp  n_rooms room_type  children arrival_timestamp  \\\n",
       "3744  2022-10-24 19:23:02        4    triple         2        2022-11-03   \n",
       "1863  2022-04-18 14:40:20        1    triple         0        2022-06-17   \n",
       "2051  2022-04-03 00:15:29        2    single         0        2022-06-05   \n",
       "\n",
       "     leave_timestamp  guests  total_cost  is_canceled   country date_of_birth  \\\n",
       "3744      2022-11-04      12      663.19            1  Malaysia    1974-07-24   \n",
       "1863      2022-06-25       3     1277.51            0      Chad    1986-04-12   \n",
       "2051      2022-06-14       2     1456.12            1    Malawi    1964-05-13   \n",
       "\n",
       "     hotel_country  has_pool  has_spa  has_theatre  stars  \n",
       "3744         Niger         1        0            0      5  \n",
       "1863       Belarus         0        1            1      3  \n",
       "2051        Mexico         1        1            1      4  "
      ]
     },
     "execution_count": 149,
     "metadata": {},
     "output_type": "execute_result"
    }
   ],
   "source": [
    "df.sample(3)"
   ]
  },
  {
   "cell_type": "code",
   "execution_count": 384,
   "metadata": {
    "scrolled": true
   },
   "outputs": [
    {
     "data": {
      "image/png": "[encoded data removed]",
      "text/plain": [
       "<Figure size 432x288 with 1 Axes>"
      ]
     },
     "metadata": {
      "needs_background": "light"
     },
     "output_type": "display_data"
    }
   ],
   "source": [
    "df.groupby('has_pool').is_canceled.mean().sort_values().plot.bar(ylim=(0,1))\n",
    "plt.axhline(df.is_canceled.mean(), c='r');\n",
    "plt.grid()"
   ]
  },
  {
   "cell_type": "code",
   "execution_count": 385,
   "metadata": {
    "scrolled": true
   },
   "outputs": [
    {
     "data": {
      "image/png": "[encoded data removed]",
      "text/plain": [
       "<Figure size 432x288 with 1 Axes>"
      ]
     },
     "metadata": {
      "needs_background": "light"
     },
     "output_type": "display_data"
    }
   ],
   "source": [
    "df.groupby('has_spa').is_canceled.mean().sort_values().plot.bar(ylim=(0,1))\n",
    "plt.axhline(df.is_canceled.mean(), c='r');\n",
    "plt.grid()"
   ]
  },
  {
   "cell_type": "code",
   "execution_count": 386,
   "metadata": {
    "scrolled": true
   },
   "outputs": [
    {
     "data": {
      "image/png": "[encoded data removed]",
      "text/plain": [
       "<Figure size 432x288 with 1 Axes>"
      ]
     },
     "metadata": {
      "needs_background": "light"
     },
     "output_type": "display_data"
    }
   ],
   "source": [
    "df.groupby('has_theatre').is_canceled.mean().sort_values().plot.bar(ylim=(0,1))\n",
    "plt.axhline(df.is_canceled.mean(), c='r');\n",
    "plt.grid()"
   ]
  },
  {
   "cell_type": "markdown",
   "metadata": {},
   "source": [
    "Parece que las instalaciones que posea el hotel no son variables determinantes a la hora de cancelar la reserva."
   ]
  },
  {
   "cell_type": "code",
   "execution_count": 150,
   "metadata": {},
   "outputs": [
    {
     "data": {
      "image/png": "[encoded data removed]",
      "text/plain": [
       "<Figure size 432x288 with 1 Axes>"
      ]
     },
     "metadata": {
      "needs_background": "light"
     },
     "output_type": "display_data"
    }
   ],
   "source": [
    "df.groupby('stars').is_canceled.mean().sort_values().plot.bar(ylim=(0,1))\n",
    "plt.axhline(df.is_canceled.mean(), c='r');\n",
    "plt.grid()"
   ]
  },
  {
   "cell_type": "markdown",
   "metadata": {},
   "source": [
    "Se puede apreciar que el número de estrellas que tiene el hotel no es significativo para que tenga lugar la cancelación de la reserva, ya que todos presentan un porcentaje medio similar de cancelaciones tal y como se muestra en la gráfica."
   ]
  },
  {
   "cell_type": "code",
   "execution_count": 151,
   "metadata": {
    "scrolled": true
   },
   "outputs": [
    {
     "data": {
      "image/png": "[encoded data removed]",
      "text/plain": [
       "<Figure size 432x288 with 1 Axes>"
      ]
     },
     "metadata": {
      "needs_background": "light"
     },
     "output_type": "display_data"
    }
   ],
   "source": [
    "df.groupby('guests').is_canceled.mean().plot.bar()\n",
    "plt.axhline(df.is_canceled.mean(), c='r');\n",
    "plt.grid()"
   ]
  },
  {
   "cell_type": "markdown",
   "metadata": {},
   "source": [
    "En general, se produce un aumento de las cancelaciones cuando el número de invitados es alto. Por lo que esta variable sería interesante estudiarla más en adelante."
   ]
  },
  {
   "cell_type": "code",
   "execution_count": 152,
   "metadata": {
    "scrolled": true
   },
   "outputs": [
    {
     "data": {
      "image/png": "[encoded data removed]",
      "text/plain": [
       "<Figure size 432x288 with 1 Axes>"
      ]
     },
     "metadata": {
      "needs_background": "light"
     },
     "output_type": "display_data"
    }
   ],
   "source": [
    "df.groupby('children').is_canceled.mean().sort_values().plot.bar(ylim=(0,0.5))\n",
    "plt.axhline(df.is_canceled.mean(), c='r');\n",
    "plt.grid()"
   ]
  },
  {
   "cell_type": "markdown",
   "metadata": {},
   "source": [
    "Parece que el número de niños no afecta demasiado en la cancelación de la reserva."
   ]
  },
  {
   "cell_type": "code",
   "execution_count": 153,
   "metadata": {},
   "outputs": [
    {
     "data": {
      "image/png": "[encoded data removed]",
      "text/plain": [
       "<Figure size 432x288 with 1 Axes>"
      ]
     },
     "metadata": {
      "needs_background": "light"
     },
     "output_type": "display_data"
    }
   ],
   "source": [
    "df.groupby(pd.qcut(df.total_cost, 8)).is_canceled.mean().plot.bar(ylim=(0, 0.5))\n",
    "plt.axhline(df.is_canceled.mean(), c='r');\n",
    "plt.grid()"
   ]
  },
  {
   "cell_type": "markdown",
   "metadata": {},
   "source": [
    "No hay diferencias relevantes en la tasa de cancelación de la reserva entre aquellas que son más caras en comparación con las más baratas."
   ]
  },
  {
   "cell_type": "markdown",
   "metadata": {},
   "source": [
    "### Ingeniería de datos"
   ]
  },
  {
   "cell_type": "code",
   "execution_count": 154,
   "metadata": {},
   "outputs": [],
   "source": [
    "import datetime as dt"
   ]
  },
  {
   "cell_type": "code",
   "execution_count": 246,
   "metadata": {},
   "outputs": [
    {
     "data": {
      "text/plain": [
       "count    5000.000000\n",
       "mean       48.189400\n",
       "std        16.048534\n",
       "min        20.000000\n",
       "25%        34.000000\n",
       "50%        49.000000\n",
       "75%        62.000000\n",
       "max        76.000000\n",
       "Name: booking_client_age, dtype: float64"
      ]
     },
     "execution_count": 246,
     "metadata": {},
     "output_type": "execute_result"
    }
   ],
   "source": [
    "df['date_of_birth']= pd.to_datetime(df['date_of_birth'])\n",
    "\n",
    "df['booking_client_age'] = 2023 - df.date_of_birth.dt.year\n",
    "df.booking_client_age.describe()"
   ]
  },
  {
   "cell_type": "code",
   "execution_count": 247,
   "metadata": {},
   "outputs": [],
   "source": [
    "df['arrival_timestamp'] = pd.to_datetime(df['arrival_timestamp'])\n",
    "df['leave_timestamp'] = pd.to_datetime(df['leave_timestamp'])\n",
    "df['booking_timestamp'] =pd.to_datetime(df['booking_timestamp'])"
   ]
  },
  {
   "cell_type": "code",
   "execution_count": 248,
   "metadata": {},
   "outputs": [],
   "source": [
    "df['arrival_month'] = df['arrival_timestamp'].dt.month\n",
    "df['arrival_year'] = df['arrival_timestamp'].dt.year\n",
    "\n",
    "df['leave_month'] = df['leave_timestamp'].dt.month\n",
    "df['leave_year'] = df['leave_timestamp'].dt.year\n",
    "\n",
    "df['booking_month'] = df['booking_timestamp'].dt.month\n",
    "df['booking_year'] = df['booking_timestamp'].dt.year"
   ]
  },
  {
   "cell_type": "code",
   "execution_count": 158,
   "metadata": {
    "scrolled": true
   },
   "outputs": [
    {
     "data": {
      "text/html": [
       "<div>\n",
       "<style scoped>\n",
       "    .dataframe tbody tr th:only-of-type {\n",
       "        vertical-align: middle;\n",
       "    }\n",
       "\n",
       "    .dataframe tbody tr th {\n",
       "        vertical-align: top;\n",
       "    }\n",
       "\n",
       "    .dataframe thead th {\n",
       "        text-align: right;\n",
       "    }\n",
       "</style>\n",
       "<table border=\"1\" class=\"dataframe\">\n",
       "  <thead>\n",
       "    <tr style=\"text-align: right;\">\n",
       "      <th></th>\n",
       "      <th>booking_id</th>\n",
       "      <th>name</th>\n",
       "      <th>hotel</th>\n",
       "      <th>booking_timestamp</th>\n",
       "      <th>n_rooms</th>\n",
       "      <th>room_type</th>\n",
       "      <th>children</th>\n",
       "      <th>arrival_timestamp</th>\n",
       "      <th>leave_timestamp</th>\n",
       "      <th>guests</th>\n",
       "      <th>...</th>\n",
       "      <th>has_spa</th>\n",
       "      <th>has_theatre</th>\n",
       "      <th>stars</th>\n",
       "      <th>booking_client_age</th>\n",
       "      <th>arrival_month</th>\n",
       "      <th>arrival_year</th>\n",
       "      <th>leave_month</th>\n",
       "      <th>leave_year</th>\n",
       "      <th>booking_month</th>\n",
       "      <th>booking_year</th>\n",
       "    </tr>\n",
       "  </thead>\n",
       "  <tbody>\n",
       "    <tr>\n",
       "      <th>1998</th>\n",
       "      <td>b227a605-4e77-410b-b5c1-d4075bdb6219</td>\n",
       "      <td>Dr. Aimee Thompson</td>\n",
       "      <td>GZD</td>\n",
       "      <td>2022-10-03 04:04:25</td>\n",
       "      <td>1</td>\n",
       "      <td>double</td>\n",
       "      <td>1</td>\n",
       "      <td>2022-10-23</td>\n",
       "      <td>2022-10-26</td>\n",
       "      <td>2</td>\n",
       "      <td>...</td>\n",
       "      <td>1</td>\n",
       "      <td>1</td>\n",
       "      <td>4</td>\n",
       "      <td>50</td>\n",
       "      <td>10</td>\n",
       "      <td>2022</td>\n",
       "      <td>10</td>\n",
       "      <td>2022</td>\n",
       "      <td>10</td>\n",
       "      <td>2022</td>\n",
       "    </tr>\n",
       "    <tr>\n",
       "      <th>2688</th>\n",
       "      <td>258a600f-776d-4fb6-998d-4f15f081c183</td>\n",
       "      <td>Beth Mueller</td>\n",
       "      <td>GGE</td>\n",
       "      <td>2022-01-18 12:39:25</td>\n",
       "      <td>2</td>\n",
       "      <td>double</td>\n",
       "      <td>0</td>\n",
       "      <td>2022-03-26</td>\n",
       "      <td>2022-04-07</td>\n",
       "      <td>2</td>\n",
       "      <td>...</td>\n",
       "      <td>1</td>\n",
       "      <td>1</td>\n",
       "      <td>5</td>\n",
       "      <td>24</td>\n",
       "      <td>3</td>\n",
       "      <td>2022</td>\n",
       "      <td>4</td>\n",
       "      <td>2022</td>\n",
       "      <td>1</td>\n",
       "      <td>2022</td>\n",
       "    </tr>\n",
       "    <tr>\n",
       "      <th>421</th>\n",
       "      <td>df0f4cb9-52f2-4f9f-80f3-4f02031ecfcf</td>\n",
       "      <td>Mark Elliott</td>\n",
       "      <td>LMB</td>\n",
       "      <td>2022-05-20 00:35:53</td>\n",
       "      <td>2</td>\n",
       "      <td>suite</td>\n",
       "      <td>0</td>\n",
       "      <td>2022-05-23</td>\n",
       "      <td>2022-06-06</td>\n",
       "      <td>8</td>\n",
       "      <td>...</td>\n",
       "      <td>1</td>\n",
       "      <td>0</td>\n",
       "      <td>1</td>\n",
       "      <td>41</td>\n",
       "      <td>5</td>\n",
       "      <td>2022</td>\n",
       "      <td>6</td>\n",
       "      <td>2022</td>\n",
       "      <td>5</td>\n",
       "      <td>2022</td>\n",
       "    </tr>\n",
       "  </tbody>\n",
       "</table>\n",
       "<p>3 rows × 26 columns</p>\n",
       "</div>"
      ],
      "text/plain": [
       "                                booking_id                name hotel  \\\n",
       "1998  b227a605-4e77-410b-b5c1-d4075bdb6219  Dr. Aimee Thompson   GZD   \n",
       "2688  258a600f-776d-4fb6-998d-4f15f081c183        Beth Mueller   GGE   \n",
       "421   df0f4cb9-52f2-4f9f-80f3-4f02031ecfcf        Mark Elliott   LMB   \n",
       "\n",
       "       booking_timestamp  n_rooms room_type  children arrival_timestamp  \\\n",
       "1998 2022-10-03 04:04:25        1    double         1        2022-10-23   \n",
       "2688 2022-01-18 12:39:25        2    double         0        2022-03-26   \n",
       "421  2022-05-20 00:35:53        2     suite         0        2022-05-23   \n",
       "\n",
       "     leave_timestamp  guests  ...  has_spa  has_theatre stars  \\\n",
       "1998      2022-10-26       2  ...        1            1     4   \n",
       "2688      2022-04-07       2  ...        1            1     5   \n",
       "421       2022-06-06       8  ...        1            0     1   \n",
       "\n",
       "     booking_client_age arrival_month  arrival_year  leave_month  leave_year  \\\n",
       "1998                 50            10          2022           10        2022   \n",
       "2688                 24             3          2022            4        2022   \n",
       "421                  41             5          2022            6        2022   \n",
       "\n",
       "      booking_month  booking_year  \n",
       "1998             10          2022  \n",
       "2688              1          2022  \n",
       "421               5          2022  \n",
       "\n",
       "[3 rows x 26 columns]"
      ]
     },
     "execution_count": 158,
     "metadata": {},
     "output_type": "execute_result"
    }
   ],
   "source": [
    "df.sample(3)"
   ]
  },
  {
   "cell_type": "code",
   "execution_count": 249,
   "metadata": {},
   "outputs": [],
   "source": [
    "duration_dict = {}\n",
    "for i in range(0, df.arrival_month.count()):\n",
    "    key = df['booking_id'][i]\n",
    "    if df['leave_month'][i] == df['arrival_month'][i]:\n",
    "        duration_dict[key] = df['leave_timestamp'].dt.day[i] - df['arrival_timestamp'].dt.day[i]\n",
    "    else:\n",
    "        if df['arrival_month'][i] == 12 and df['leave_month'][i] < 12: \n",
    "            m = df['leave_month'][i] + 1\n",
    "        else:\n",
    "            m = df['leave_month'][i] - df['arrival_month'][i]\n",
    "        if df['leave_timestamp'].dt.day[i] < 15 and df['arrival_timestamp'].dt.day[i] >= 15:\n",
    "            duration_dict[key] = (30 - df['arrival_timestamp'].dt.day[i]) + df['leave_timestamp'].dt.day[i]\n",
    "            if duration_dict[key] == 0: # para los casos en donde los meses tienen 31 días\n",
    "                duration_dict[key] = 1\n",
    "            \n",
    "        else:\n",
    "            duration_dict[key] = 30*m + (30 - df['leave_timestamp'].dt.day[i]) + df['arrival_timestamp'].dt.day[i]\n",
    "            if duration_dict[key] == 0: # para los casos en donde los meses tienen 31 días\n",
    "                duration_dict[key] = 1"
   ]
  },
  {
   "cell_type": "code",
   "execution_count": 250,
   "metadata": {},
   "outputs": [],
   "source": [
    "df['duration_days'] = duration_dict.values()"
   ]
  },
  {
   "cell_type": "code",
   "execution_count": 161,
   "metadata": {},
   "outputs": [
    {
     "data": {
      "text/html": [
       "<div>\n",
       "<style scoped>\n",
       "    .dataframe tbody tr th:only-of-type {\n",
       "        vertical-align: middle;\n",
       "    }\n",
       "\n",
       "    .dataframe tbody tr th {\n",
       "        vertical-align: top;\n",
       "    }\n",
       "\n",
       "    .dataframe thead th {\n",
       "        text-align: right;\n",
       "    }\n",
       "</style>\n",
       "<table border=\"1\" class=\"dataframe\">\n",
       "  <thead>\n",
       "    <tr style=\"text-align: right;\">\n",
       "      <th></th>\n",
       "      <th>booking_id</th>\n",
       "      <th>name</th>\n",
       "      <th>hotel</th>\n",
       "      <th>booking_timestamp</th>\n",
       "      <th>n_rooms</th>\n",
       "      <th>room_type</th>\n",
       "      <th>children</th>\n",
       "      <th>arrival_timestamp</th>\n",
       "      <th>leave_timestamp</th>\n",
       "      <th>guests</th>\n",
       "      <th>...</th>\n",
       "      <th>has_theatre</th>\n",
       "      <th>stars</th>\n",
       "      <th>booking_client_age</th>\n",
       "      <th>arrival_month</th>\n",
       "      <th>arrival_year</th>\n",
       "      <th>leave_month</th>\n",
       "      <th>leave_year</th>\n",
       "      <th>booking_month</th>\n",
       "      <th>booking_year</th>\n",
       "      <th>duration_days</th>\n",
       "    </tr>\n",
       "  </thead>\n",
       "  <tbody>\n",
       "    <tr>\n",
       "      <th>1303</th>\n",
       "      <td>e14abd46-9783-453d-9d59-6b4ad427c6da</td>\n",
       "      <td>Carmen Hall</td>\n",
       "      <td>ZDC</td>\n",
       "      <td>2022-12-21 13:18:49</td>\n",
       "      <td>1</td>\n",
       "      <td>double</td>\n",
       "      <td>2</td>\n",
       "      <td>2023-03-03</td>\n",
       "      <td>2023-03-13</td>\n",
       "      <td>2</td>\n",
       "      <td>...</td>\n",
       "      <td>1</td>\n",
       "      <td>1</td>\n",
       "      <td>33</td>\n",
       "      <td>3</td>\n",
       "      <td>2023</td>\n",
       "      <td>3</td>\n",
       "      <td>2023</td>\n",
       "      <td>12</td>\n",
       "      <td>2022</td>\n",
       "      <td>10</td>\n",
       "    </tr>\n",
       "    <tr>\n",
       "      <th>2960</th>\n",
       "      <td>44541ba8-4a20-4c5d-8262-20389f1ddc67</td>\n",
       "      <td>Manuel Delacruz</td>\n",
       "      <td>BXO</td>\n",
       "      <td>2022-08-04 17:23:24</td>\n",
       "      <td>1</td>\n",
       "      <td>suite</td>\n",
       "      <td>1</td>\n",
       "      <td>2022-10-31</td>\n",
       "      <td>2022-11-03</td>\n",
       "      <td>1</td>\n",
       "      <td>...</td>\n",
       "      <td>0</td>\n",
       "      <td>5</td>\n",
       "      <td>26</td>\n",
       "      <td>10</td>\n",
       "      <td>2022</td>\n",
       "      <td>11</td>\n",
       "      <td>2022</td>\n",
       "      <td>8</td>\n",
       "      <td>2022</td>\n",
       "      <td>2</td>\n",
       "    </tr>\n",
       "    <tr>\n",
       "      <th>1909</th>\n",
       "      <td>bb8d1513-a11a-4281-998d-c13dea0c750f</td>\n",
       "      <td>Jessica Davis</td>\n",
       "      <td>UIO</td>\n",
       "      <td>2022-06-11 15:19:12</td>\n",
       "      <td>1</td>\n",
       "      <td>single</td>\n",
       "      <td>0</td>\n",
       "      <td>2022-07-12</td>\n",
       "      <td>2022-07-26</td>\n",
       "      <td>1</td>\n",
       "      <td>...</td>\n",
       "      <td>0</td>\n",
       "      <td>1</td>\n",
       "      <td>69</td>\n",
       "      <td>7</td>\n",
       "      <td>2022</td>\n",
       "      <td>7</td>\n",
       "      <td>2022</td>\n",
       "      <td>6</td>\n",
       "      <td>2022</td>\n",
       "      <td>14</td>\n",
       "    </tr>\n",
       "  </tbody>\n",
       "</table>\n",
       "<p>3 rows × 27 columns</p>\n",
       "</div>"
      ],
      "text/plain": [
       "                                booking_id             name hotel  \\\n",
       "1303  e14abd46-9783-453d-9d59-6b4ad427c6da      Carmen Hall   ZDC   \n",
       "2960  44541ba8-4a20-4c5d-8262-20389f1ddc67  Manuel Delacruz   BXO   \n",
       "1909  bb8d1513-a11a-4281-998d-c13dea0c750f    Jessica Davis   UIO   \n",
       "\n",
       "       booking_timestamp  n_rooms room_type  children arrival_timestamp  \\\n",
       "1303 2022-12-21 13:18:49        1    double         2        2023-03-03   \n",
       "2960 2022-08-04 17:23:24        1     suite         1        2022-10-31   \n",
       "1909 2022-06-11 15:19:12        1    single         0        2022-07-12   \n",
       "\n",
       "     leave_timestamp  guests  ...  has_theatre  stars booking_client_age  \\\n",
       "1303      2023-03-13       2  ...            1      1                 33   \n",
       "2960      2022-11-03       1  ...            0      5                 26   \n",
       "1909      2022-07-26       1  ...            0      1                 69   \n",
       "\n",
       "     arrival_month arrival_year  leave_month  leave_year  booking_month  \\\n",
       "1303             3         2023            3        2023             12   \n",
       "2960            10         2022           11        2022              8   \n",
       "1909             7         2022            7        2022              6   \n",
       "\n",
       "      booking_year  duration_days  \n",
       "1303          2022             10  \n",
       "2960          2022              2  \n",
       "1909          2022             14  \n",
       "\n",
       "[3 rows x 27 columns]"
      ]
     },
     "execution_count": 161,
     "metadata": {},
     "output_type": "execute_result"
    }
   ],
   "source": [
    "df.sample(3)"
   ]
  },
  {
   "cell_type": "markdown",
   "metadata": {},
   "source": [
    "### EDA para la evaluación de las variables creadas"
   ]
  },
  {
   "cell_type": "code",
   "execution_count": 231,
   "metadata": {
    "scrolled": true
   },
   "outputs": [
    {
     "data": {
      "image/png": "[encoded data removed]",
      "text/plain": [
       "<Figure size 432x288 with 1 Axes>"
      ]
     },
     "metadata": {
      "needs_background": "light"
     },
     "output_type": "display_data"
    }
   ],
   "source": [
    "df.groupby('booking_client_age').is_canceled.mean().sort_index().plot.bar();\n",
    "plt.axhline(df.is_canceled.mean(), c='r')\n",
    "plt.grid()"
   ]
  },
  {
   "cell_type": "code",
   "execution_count": 162,
   "metadata": {
    "scrolled": true
   },
   "outputs": [
    {
     "data": {
      "image/png": "[encoded data removed]",
      "text/plain": [
       "<Figure size 432x288 with 1 Axes>"
      ]
     },
     "metadata": {
      "needs_background": "light"
     },
     "output_type": "display_data"
    }
   ],
   "source": [
    "df.groupby(pd.qcut(df.booking_client_age, 5)).is_canceled.mean().sort_index().plot.bar();\n",
    "plt.axhline(df.is_canceled.mean(), c='r');\n",
    "plt.grid()"
   ]
  },
  {
   "cell_type": "markdown",
   "metadata": {},
   "source": [
    "A partir de estas gráficas es posible ver que las personas más jóvenes que realizan la reserva tienden a cancelar las reservas con mayor frecuencia que personas más mayores."
   ]
  },
  {
   "cell_type": "code",
   "execution_count": 163,
   "metadata": {},
   "outputs": [
    {
     "data": {
      "image/png": "[encoded data removed]",
      "text/plain": [
       "<Figure size 432x288 with 1 Axes>"
      ]
     },
     "metadata": {
      "needs_background": "light"
     },
     "output_type": "display_data"
    }
   ],
   "source": [
    "df.groupby('arrival_month').is_canceled.mean().plot.bar();\n",
    "plt.axhline(df.is_canceled.mean(), c='r');\n",
    "plt.grid()"
   ]
  },
  {
   "cell_type": "markdown",
   "metadata": {},
   "source": [
    "Parece que las reservas que tienen lugar en julio suelen ser las que suelen ser más canceladas, aunque no parece ser muy significativo ya que el resto de meses presentan valores similares."
   ]
  },
  {
   "cell_type": "code",
   "execution_count": 235,
   "metadata": {
    "scrolled": false
   },
   "outputs": [
    {
     "data": {
      "image/png": "[encoded data removed]",
      "text/plain": [
       "<Figure size 432x288 with 1 Axes>"
      ]
     },
     "metadata": {
      "needs_background": "light"
     },
     "output_type": "display_data"
    }
   ],
   "source": [
    "df.groupby('duration_days').is_canceled.mean().plot.bar(ylim=(0, 0.5))\n",
    "plt.axhline(df.is_canceled.mean(), c='r');\n",
    "plt.grid()"
   ]
  },
  {
   "cell_type": "code",
   "execution_count": 236,
   "metadata": {},
   "outputs": [
    {
     "data": {
      "image/png": "[encoded data removed]",
      "text/plain": [
       "<Figure size 432x288 with 1 Axes>"
      ]
     },
     "metadata": {
      "needs_background": "light"
     },
     "output_type": "display_data"
    }
   ],
   "source": [
    "df.groupby(pd.qcut(df.duration_days, 4)).is_canceled.mean().plot.bar(ylim=(0, 0.5))\n",
    "plt.axhline(df.is_canceled.mean(), c='r');\n",
    "plt.grid()"
   ]
  },
  {
   "cell_type": "markdown",
   "metadata": {},
   "source": [
    "Las reservas de estancias más cortas suelen tener mayor frecuencia de cancelación que estancias más largas."
   ]
  },
  {
   "cell_type": "markdown",
   "metadata": {},
   "source": [
    "### Creación de dummies"
   ]
  },
  {
   "cell_type": "code",
   "execution_count": 268,
   "metadata": {},
   "outputs": [
    {
     "data": {
      "text/plain": [
       "0      (49.0, 58.0]\n",
       "1    (19.999, 29.0]\n",
       "2      (66.0, 76.0]\n",
       "3      (49.0, 58.0]\n",
       "4      (66.0, 76.0]\n",
       "Name: booking_client_age, dtype: category\n",
       "Categories (6, interval[float64]): [(19.999, 29.0] < (29.0, 39.0] < (39.0, 49.0] < (49.0, 58.0] < (58.0, 66.0] < (66.0, 76.0]]"
      ]
     },
     "execution_count": 268,
     "metadata": {},
     "output_type": "execute_result"
    }
   ],
   "source": [
    "df['booking_client_age'] = pd.qcut(df.booking_client_age, 6)\n",
    "df['booking_client_age'].head()"
   ]
  },
  {
   "cell_type": "code",
   "execution_count": 279,
   "metadata": {},
   "outputs": [
    {
     "data": {
      "text/plain": [
       "0       (11.0, 16.0]\n",
       "1       (0.999, 4.0]\n",
       "2        (7.0, 11.0]\n",
       "3       (11.0, 16.0]\n",
       "4       (11.0, 16.0]\n",
       "            ...     \n",
       "4995      (4.0, 7.0]\n",
       "4996    (11.0, 16.0]\n",
       "4997    (11.0, 16.0]\n",
       "4998    (0.999, 4.0]\n",
       "4999      (4.0, 7.0]\n",
       "Name: duration_days, Length: 5000, dtype: category\n",
       "Categories (4, interval[float64]): [(0.999, 4.0] < (4.0, 7.0] < (7.0, 11.0] < (11.0, 16.0]]"
      ]
     },
     "execution_count": 279,
     "metadata": {},
     "output_type": "execute_result"
    }
   ],
   "source": [
    "df['duration_days'] = pd.qcut(df.duration_days, 4)\n",
    "df['duration_days']"
   ]
  },
  {
   "cell_type": "code",
   "execution_count": 295,
   "metadata": {
    "scrolled": true
   },
   "outputs": [
    {
     "data": {
      "text/html": [
       "<div>\n",
       "<style scoped>\n",
       "    .dataframe tbody tr th:only-of-type {\n",
       "        vertical-align: middle;\n",
       "    }\n",
       "\n",
       "    .dataframe tbody tr th {\n",
       "        vertical-align: top;\n",
       "    }\n",
       "\n",
       "    .dataframe thead th {\n",
       "        text-align: right;\n",
       "    }\n",
       "</style>\n",
       "<table border=\"1\" class=\"dataframe\">\n",
       "  <thead>\n",
       "    <tr style=\"text-align: right;\">\n",
       "      <th></th>\n",
       "      <th></th>\n",
       "      <th>count</th>\n",
       "      <th>mean</th>\n",
       "      <th>std</th>\n",
       "      <th>min</th>\n",
       "      <th>25%</th>\n",
       "      <th>50%</th>\n",
       "      <th>75%</th>\n",
       "      <th>max</th>\n",
       "    </tr>\n",
       "    <tr>\n",
       "      <th>booking_client_age</th>\n",
       "      <th>duration_days</th>\n",
       "      <th></th>\n",
       "      <th></th>\n",
       "      <th></th>\n",
       "      <th></th>\n",
       "      <th></th>\n",
       "      <th></th>\n",
       "      <th></th>\n",
       "      <th></th>\n",
       "    </tr>\n",
       "  </thead>\n",
       "  <tbody>\n",
       "    <tr>\n",
       "      <th rowspan=\"4\" valign=\"top\">(19.999, 29.0]</th>\n",
       "      <th>(0.999, 4.0]</th>\n",
       "      <td>281.0</td>\n",
       "      <td>0.587189</td>\n",
       "      <td>0.493218</td>\n",
       "      <td>0.0</td>\n",
       "      <td>0.0</td>\n",
       "      <td>1.0</td>\n",
       "      <td>1.0</td>\n",
       "      <td>1.0</td>\n",
       "    </tr>\n",
       "    <tr>\n",
       "      <th>(4.0, 7.0]</th>\n",
       "      <td>176.0</td>\n",
       "      <td>0.636364</td>\n",
       "      <td>0.482418</td>\n",
       "      <td>0.0</td>\n",
       "      <td>0.0</td>\n",
       "      <td>1.0</td>\n",
       "      <td>1.0</td>\n",
       "      <td>1.0</td>\n",
       "    </tr>\n",
       "    <tr>\n",
       "      <th>(7.0, 11.0]</th>\n",
       "      <td>248.0</td>\n",
       "      <td>0.592742</td>\n",
       "      <td>0.492317</td>\n",
       "      <td>0.0</td>\n",
       "      <td>0.0</td>\n",
       "      <td>1.0</td>\n",
       "      <td>1.0</td>\n",
       "      <td>1.0</td>\n",
       "    </tr>\n",
       "    <tr>\n",
       "      <th>(11.0, 16.0]</th>\n",
       "      <td>183.0</td>\n",
       "      <td>0.300546</td>\n",
       "      <td>0.459754</td>\n",
       "      <td>0.0</td>\n",
       "      <td>0.0</td>\n",
       "      <td>0.0</td>\n",
       "      <td>1.0</td>\n",
       "      <td>1.0</td>\n",
       "    </tr>\n",
       "    <tr>\n",
       "      <th rowspan=\"4\" valign=\"top\">(29.0, 39.0]</th>\n",
       "      <th>(0.999, 4.0]</th>\n",
       "      <td>229.0</td>\n",
       "      <td>0.353712</td>\n",
       "      <td>0.479168</td>\n",
       "      <td>0.0</td>\n",
       "      <td>0.0</td>\n",
       "      <td>0.0</td>\n",
       "      <td>1.0</td>\n",
       "      <td>1.0</td>\n",
       "    </tr>\n",
       "    <tr>\n",
       "      <th>(4.0, 7.0]</th>\n",
       "      <td>173.0</td>\n",
       "      <td>0.369942</td>\n",
       "      <td>0.484190</td>\n",
       "      <td>0.0</td>\n",
       "      <td>0.0</td>\n",
       "      <td>0.0</td>\n",
       "      <td>1.0</td>\n",
       "      <td>1.0</td>\n",
       "    </tr>\n",
       "    <tr>\n",
       "      <th>(7.0, 11.0]</th>\n",
       "      <td>225.0</td>\n",
       "      <td>0.302222</td>\n",
       "      <td>0.460245</td>\n",
       "      <td>0.0</td>\n",
       "      <td>0.0</td>\n",
       "      <td>0.0</td>\n",
       "      <td>1.0</td>\n",
       "      <td>1.0</td>\n",
       "    </tr>\n",
       "    <tr>\n",
       "      <th>(11.0, 16.0]</th>\n",
       "      <td>161.0</td>\n",
       "      <td>0.204969</td>\n",
       "      <td>0.404938</td>\n",
       "      <td>0.0</td>\n",
       "      <td>0.0</td>\n",
       "      <td>0.0</td>\n",
       "      <td>0.0</td>\n",
       "      <td>1.0</td>\n",
       "    </tr>\n",
       "    <tr>\n",
       "      <th rowspan=\"4\" valign=\"top\">(39.0, 49.0]</th>\n",
       "      <th>(0.999, 4.0]</th>\n",
       "      <td>257.0</td>\n",
       "      <td>0.381323</td>\n",
       "      <td>0.486659</td>\n",
       "      <td>0.0</td>\n",
       "      <td>0.0</td>\n",
       "      <td>0.0</td>\n",
       "      <td>1.0</td>\n",
       "      <td>1.0</td>\n",
       "    </tr>\n",
       "    <tr>\n",
       "      <th>(4.0, 7.0]</th>\n",
       "      <td>185.0</td>\n",
       "      <td>0.345946</td>\n",
       "      <td>0.476967</td>\n",
       "      <td>0.0</td>\n",
       "      <td>0.0</td>\n",
       "      <td>0.0</td>\n",
       "      <td>1.0</td>\n",
       "      <td>1.0</td>\n",
       "    </tr>\n",
       "    <tr>\n",
       "      <th>(7.0, 11.0]</th>\n",
       "      <td>247.0</td>\n",
       "      <td>0.307692</td>\n",
       "      <td>0.462476</td>\n",
       "      <td>0.0</td>\n",
       "      <td>0.0</td>\n",
       "      <td>0.0</td>\n",
       "      <td>1.0</td>\n",
       "      <td>1.0</td>\n",
       "    </tr>\n",
       "    <tr>\n",
       "      <th>(11.0, 16.0]</th>\n",
       "      <td>178.0</td>\n",
       "      <td>0.191011</td>\n",
       "      <td>0.394207</td>\n",
       "      <td>0.0</td>\n",
       "      <td>0.0</td>\n",
       "      <td>0.0</td>\n",
       "      <td>0.0</td>\n",
       "      <td>1.0</td>\n",
       "    </tr>\n",
       "    <tr>\n",
       "      <th rowspan=\"4\" valign=\"top\">(49.0, 58.0]</th>\n",
       "      <th>(0.999, 4.0]</th>\n",
       "      <td>245.0</td>\n",
       "      <td>0.297959</td>\n",
       "      <td>0.458298</td>\n",
       "      <td>0.0</td>\n",
       "      <td>0.0</td>\n",
       "      <td>0.0</td>\n",
       "      <td>1.0</td>\n",
       "      <td>1.0</td>\n",
       "    </tr>\n",
       "    <tr>\n",
       "      <th>(4.0, 7.0]</th>\n",
       "      <td>201.0</td>\n",
       "      <td>0.393035</td>\n",
       "      <td>0.489644</td>\n",
       "      <td>0.0</td>\n",
       "      <td>0.0</td>\n",
       "      <td>0.0</td>\n",
       "      <td>1.0</td>\n",
       "      <td>1.0</td>\n",
       "    </tr>\n",
       "    <tr>\n",
       "      <th>(7.0, 11.0]</th>\n",
       "      <td>266.0</td>\n",
       "      <td>0.323308</td>\n",
       "      <td>0.468621</td>\n",
       "      <td>0.0</td>\n",
       "      <td>0.0</td>\n",
       "      <td>0.0</td>\n",
       "      <td>1.0</td>\n",
       "      <td>1.0</td>\n",
       "    </tr>\n",
       "    <tr>\n",
       "      <th>(11.0, 16.0]</th>\n",
       "      <td>176.0</td>\n",
       "      <td>0.159091</td>\n",
       "      <td>0.366804</td>\n",
       "      <td>0.0</td>\n",
       "      <td>0.0</td>\n",
       "      <td>0.0</td>\n",
       "      <td>0.0</td>\n",
       "      <td>1.0</td>\n",
       "    </tr>\n",
       "    <tr>\n",
       "      <th rowspan=\"4\" valign=\"top\">(58.0, 66.0]</th>\n",
       "      <th>(0.999, 4.0]</th>\n",
       "      <td>220.0</td>\n",
       "      <td>0.150000</td>\n",
       "      <td>0.357886</td>\n",
       "      <td>0.0</td>\n",
       "      <td>0.0</td>\n",
       "      <td>0.0</td>\n",
       "      <td>0.0</td>\n",
       "      <td>1.0</td>\n",
       "    </tr>\n",
       "    <tr>\n",
       "      <th>(4.0, 7.0]</th>\n",
       "      <td>157.0</td>\n",
       "      <td>0.184713</td>\n",
       "      <td>0.389307</td>\n",
       "      <td>0.0</td>\n",
       "      <td>0.0</td>\n",
       "      <td>0.0</td>\n",
       "      <td>0.0</td>\n",
       "      <td>1.0</td>\n",
       "    </tr>\n",
       "    <tr>\n",
       "      <th>(7.0, 11.0]</th>\n",
       "      <td>217.0</td>\n",
       "      <td>0.230415</td>\n",
       "      <td>0.422072</td>\n",
       "      <td>0.0</td>\n",
       "      <td>0.0</td>\n",
       "      <td>0.0</td>\n",
       "      <td>0.0</td>\n",
       "      <td>1.0</td>\n",
       "    </tr>\n",
       "    <tr>\n",
       "      <th>(11.0, 16.0]</th>\n",
       "      <td>153.0</td>\n",
       "      <td>0.091503</td>\n",
       "      <td>0.289270</td>\n",
       "      <td>0.0</td>\n",
       "      <td>0.0</td>\n",
       "      <td>0.0</td>\n",
       "      <td>0.0</td>\n",
       "      <td>1.0</td>\n",
       "    </tr>\n",
       "    <tr>\n",
       "      <th rowspan=\"4\" valign=\"top\">(66.0, 76.0]</th>\n",
       "      <th>(0.999, 4.0]</th>\n",
       "      <td>245.0</td>\n",
       "      <td>0.195918</td>\n",
       "      <td>0.397718</td>\n",
       "      <td>0.0</td>\n",
       "      <td>0.0</td>\n",
       "      <td>0.0</td>\n",
       "      <td>0.0</td>\n",
       "      <td>1.0</td>\n",
       "    </tr>\n",
       "    <tr>\n",
       "      <th>(4.0, 7.0]</th>\n",
       "      <td>187.0</td>\n",
       "      <td>0.187166</td>\n",
       "      <td>0.391092</td>\n",
       "      <td>0.0</td>\n",
       "      <td>0.0</td>\n",
       "      <td>0.0</td>\n",
       "      <td>0.0</td>\n",
       "      <td>1.0</td>\n",
       "    </tr>\n",
       "    <tr>\n",
       "      <th>(7.0, 11.0]</th>\n",
       "      <td>226.0</td>\n",
       "      <td>0.137168</td>\n",
       "      <td>0.344788</td>\n",
       "      <td>0.0</td>\n",
       "      <td>0.0</td>\n",
       "      <td>0.0</td>\n",
       "      <td>0.0</td>\n",
       "      <td>1.0</td>\n",
       "    </tr>\n",
       "    <tr>\n",
       "      <th>(11.0, 16.0]</th>\n",
       "      <td>164.0</td>\n",
       "      <td>0.067073</td>\n",
       "      <td>0.250915</td>\n",
       "      <td>0.0</td>\n",
       "      <td>0.0</td>\n",
       "      <td>0.0</td>\n",
       "      <td>0.0</td>\n",
       "      <td>1.0</td>\n",
       "    </tr>\n",
       "  </tbody>\n",
       "</table>\n",
       "</div>"
      ],
      "text/plain": [
       "                                  count      mean       std  min  25%  50%  \\\n",
       "booking_client_age duration_days                                             \n",
       "(19.999, 29.0]     (0.999, 4.0]   281.0  0.587189  0.493218  0.0  0.0  1.0   \n",
       "                   (4.0, 7.0]     176.0  0.636364  0.482418  0.0  0.0  1.0   \n",
       "                   (7.0, 11.0]    248.0  0.592742  0.492317  0.0  0.0  1.0   \n",
       "                   (11.0, 16.0]   183.0  0.300546  0.459754  0.0  0.0  0.0   \n",
       "(29.0, 39.0]       (0.999, 4.0]   229.0  0.353712  0.479168  0.0  0.0  0.0   \n",
       "                   (4.0, 7.0]     173.0  0.369942  0.484190  0.0  0.0  0.0   \n",
       "                   (7.0, 11.0]    225.0  0.302222  0.460245  0.0  0.0  0.0   \n",
       "                   (11.0, 16.0]   161.0  0.204969  0.404938  0.0  0.0  0.0   \n",
       "(39.0, 49.0]       (0.999, 4.0]   257.0  0.381323  0.486659  0.0  0.0  0.0   \n",
       "                   (4.0, 7.0]     185.0  0.345946  0.476967  0.0  0.0  0.0   \n",
       "                   (7.0, 11.0]    247.0  0.307692  0.462476  0.0  0.0  0.0   \n",
       "                   (11.0, 16.0]   178.0  0.191011  0.394207  0.0  0.0  0.0   \n",
       "(49.0, 58.0]       (0.999, 4.0]   245.0  0.297959  0.458298  0.0  0.0  0.0   \n",
       "                   (4.0, 7.0]     201.0  0.393035  0.489644  0.0  0.0  0.0   \n",
       "                   (7.0, 11.0]    266.0  0.323308  0.468621  0.0  0.0  0.0   \n",
       "                   (11.0, 16.0]   176.0  0.159091  0.366804  0.0  0.0  0.0   \n",
       "(58.0, 66.0]       (0.999, 4.0]   220.0  0.150000  0.357886  0.0  0.0  0.0   \n",
       "                   (4.0, 7.0]     157.0  0.184713  0.389307  0.0  0.0  0.0   \n",
       "                   (7.0, 11.0]    217.0  0.230415  0.422072  0.0  0.0  0.0   \n",
       "                   (11.0, 16.0]   153.0  0.091503  0.289270  0.0  0.0  0.0   \n",
       "(66.0, 76.0]       (0.999, 4.0]   245.0  0.195918  0.397718  0.0  0.0  0.0   \n",
       "                   (4.0, 7.0]     187.0  0.187166  0.391092  0.0  0.0  0.0   \n",
       "                   (7.0, 11.0]    226.0  0.137168  0.344788  0.0  0.0  0.0   \n",
       "                   (11.0, 16.0]   164.0  0.067073  0.250915  0.0  0.0  0.0   \n",
       "\n",
       "                                  75%  max  \n",
       "booking_client_age duration_days            \n",
       "(19.999, 29.0]     (0.999, 4.0]   1.0  1.0  \n",
       "                   (4.0, 7.0]     1.0  1.0  \n",
       "                   (7.0, 11.0]    1.0  1.0  \n",
       "                   (11.0, 16.0]   1.0  1.0  \n",
       "(29.0, 39.0]       (0.999, 4.0]   1.0  1.0  \n",
       "                   (4.0, 7.0]     1.0  1.0  \n",
       "                   (7.0, 11.0]    1.0  1.0  \n",
       "                   (11.0, 16.0]   0.0  1.0  \n",
       "(39.0, 49.0]       (0.999, 4.0]   1.0  1.0  \n",
       "                   (4.0, 7.0]     1.0  1.0  \n",
       "                   (7.0, 11.0]    1.0  1.0  \n",
       "                   (11.0, 16.0]   0.0  1.0  \n",
       "(49.0, 58.0]       (0.999, 4.0]   1.0  1.0  \n",
       "                   (4.0, 7.0]     1.0  1.0  \n",
       "                   (7.0, 11.0]    1.0  1.0  \n",
       "                   (11.0, 16.0]   0.0  1.0  \n",
       "(58.0, 66.0]       (0.999, 4.0]   0.0  1.0  \n",
       "                   (4.0, 7.0]     0.0  1.0  \n",
       "                   (7.0, 11.0]    0.0  1.0  \n",
       "                   (11.0, 16.0]   0.0  1.0  \n",
       "(66.0, 76.0]       (0.999, 4.0]   0.0  1.0  \n",
       "                   (4.0, 7.0]     0.0  1.0  \n",
       "                   (7.0, 11.0]    0.0  1.0  \n",
       "                   (11.0, 16.0]   0.0  1.0  "
      ]
     },
     "execution_count": 295,
     "metadata": {},
     "output_type": "execute_result"
    }
   ],
   "source": [
    "df.groupby(['booking_client_age', 'duration_days']).is_canceled.describe()"
   ]
  },
  {
   "cell_type": "code",
   "execution_count": 322,
   "metadata": {},
   "outputs": [
    {
     "data": {
      "text/html": [
       "<div>\n",
       "<style scoped>\n",
       "    .dataframe tbody tr th:only-of-type {\n",
       "        vertical-align: middle;\n",
       "    }\n",
       "\n",
       "    .dataframe tbody tr th {\n",
       "        vertical-align: top;\n",
       "    }\n",
       "\n",
       "    .dataframe thead th {\n",
       "        text-align: right;\n",
       "    }\n",
       "</style>\n",
       "<table border=\"1\" class=\"dataframe\">\n",
       "  <thead>\n",
       "    <tr style=\"text-align: right;\">\n",
       "      <th></th>\n",
       "      <th>booking_client_age</th>\n",
       "      <th>duration_days</th>\n",
       "      <th>guests</th>\n",
       "    </tr>\n",
       "  </thead>\n",
       "  <tbody>\n",
       "    <tr>\n",
       "      <th>2260</th>\n",
       "      <td>(49.0, 58.0]</td>\n",
       "      <td>(0.999, 4.0]</td>\n",
       "      <td>6</td>\n",
       "    </tr>\n",
       "    <tr>\n",
       "      <th>4869</th>\n",
       "      <td>(58.0, 66.0]</td>\n",
       "      <td>(11.0, 16.0]</td>\n",
       "      <td>2</td>\n",
       "    </tr>\n",
       "    <tr>\n",
       "      <th>3730</th>\n",
       "      <td>(66.0, 76.0]</td>\n",
       "      <td>(7.0, 11.0]</td>\n",
       "      <td>1</td>\n",
       "    </tr>\n",
       "  </tbody>\n",
       "</table>\n",
       "</div>"
      ],
      "text/plain": [
       "     booking_client_age duration_days  guests\n",
       "2260       (49.0, 58.0]  (0.999, 4.0]       6\n",
       "4869       (58.0, 66.0]  (11.0, 16.0]       2\n",
       "3730       (66.0, 76.0]   (7.0, 11.0]       1"
      ]
     },
     "execution_count": 322,
     "metadata": {},
     "output_type": "execute_result"
    }
   ],
   "source": [
    "features = ['booking_client_age', 'duration_days', 'guests']\n",
    "df[features].sample(3)"
   ]
  },
  {
   "cell_type": "code",
   "execution_count": 323,
   "metadata": {},
   "outputs": [
    {
     "data": {
      "text/plain": [
       "((5000, 3), (5000,))"
      ]
     },
     "execution_count": 323,
     "metadata": {},
     "output_type": "execute_result"
    }
   ],
   "source": [
    "X_aux = df[features].copy()\n",
    "y = df.is_canceled\n",
    "X_aux.shape, y.shape"
   ]
  },
  {
   "cell_type": "code",
   "execution_count": 324,
   "metadata": {},
   "outputs": [
    {
     "data": {
      "text/html": [
       "<div>\n",
       "<style scoped>\n",
       "    .dataframe tbody tr th:only-of-type {\n",
       "        vertical-align: middle;\n",
       "    }\n",
       "\n",
       "    .dataframe tbody tr th {\n",
       "        vertical-align: top;\n",
       "    }\n",
       "\n",
       "    .dataframe thead th {\n",
       "        text-align: right;\n",
       "    }\n",
       "</style>\n",
       "<table border=\"1\" class=\"dataframe\">\n",
       "  <thead>\n",
       "    <tr style=\"text-align: right;\">\n",
       "      <th></th>\n",
       "      <th>guests</th>\n",
       "      <th>booking_client_age_(19.999, 29.0]</th>\n",
       "      <th>booking_client_age_(29.0, 39.0]</th>\n",
       "      <th>booking_client_age_(39.0, 49.0]</th>\n",
       "      <th>booking_client_age_(49.0, 58.0]</th>\n",
       "      <th>booking_client_age_(58.0, 66.0]</th>\n",
       "      <th>booking_client_age_(66.0, 76.0]</th>\n",
       "      <th>duration_days_(0.999, 4.0]</th>\n",
       "      <th>duration_days_(4.0, 7.0]</th>\n",
       "      <th>duration_days_(7.0, 11.0]</th>\n",
       "      <th>duration_days_(11.0, 16.0]</th>\n",
       "    </tr>\n",
       "  </thead>\n",
       "  <tbody>\n",
       "    <tr>\n",
       "      <th>3656</th>\n",
       "      <td>2</td>\n",
       "      <td>0</td>\n",
       "      <td>0</td>\n",
       "      <td>0</td>\n",
       "      <td>1</td>\n",
       "      <td>0</td>\n",
       "      <td>0</td>\n",
       "      <td>0</td>\n",
       "      <td>1</td>\n",
       "      <td>0</td>\n",
       "      <td>0</td>\n",
       "    </tr>\n",
       "    <tr>\n",
       "      <th>556</th>\n",
       "      <td>9</td>\n",
       "      <td>0</td>\n",
       "      <td>0</td>\n",
       "      <td>1</td>\n",
       "      <td>0</td>\n",
       "      <td>0</td>\n",
       "      <td>0</td>\n",
       "      <td>0</td>\n",
       "      <td>0</td>\n",
       "      <td>1</td>\n",
       "      <td>0</td>\n",
       "    </tr>\n",
       "    <tr>\n",
       "      <th>959</th>\n",
       "      <td>1</td>\n",
       "      <td>0</td>\n",
       "      <td>1</td>\n",
       "      <td>0</td>\n",
       "      <td>0</td>\n",
       "      <td>0</td>\n",
       "      <td>0</td>\n",
       "      <td>0</td>\n",
       "      <td>0</td>\n",
       "      <td>1</td>\n",
       "      <td>0</td>\n",
       "    </tr>\n",
       "    <tr>\n",
       "      <th>261</th>\n",
       "      <td>3</td>\n",
       "      <td>0</td>\n",
       "      <td>1</td>\n",
       "      <td>0</td>\n",
       "      <td>0</td>\n",
       "      <td>0</td>\n",
       "      <td>0</td>\n",
       "      <td>1</td>\n",
       "      <td>0</td>\n",
       "      <td>0</td>\n",
       "      <td>0</td>\n",
       "    </tr>\n",
       "  </tbody>\n",
       "</table>\n",
       "</div>"
      ],
      "text/plain": [
       "      guests  booking_client_age_(19.999, 29.0]  \\\n",
       "3656       2                                  0   \n",
       "556        9                                  0   \n",
       "959        1                                  0   \n",
       "261        3                                  0   \n",
       "\n",
       "      booking_client_age_(29.0, 39.0]  booking_client_age_(39.0, 49.0]  \\\n",
       "3656                                0                                0   \n",
       "556                                 0                                1   \n",
       "959                                 1                                0   \n",
       "261                                 1                                0   \n",
       "\n",
       "      booking_client_age_(49.0, 58.0]  booking_client_age_(58.0, 66.0]  \\\n",
       "3656                                1                                0   \n",
       "556                                 0                                0   \n",
       "959                                 0                                0   \n",
       "261                                 0                                0   \n",
       "\n",
       "      booking_client_age_(66.0, 76.0]  duration_days_(0.999, 4.0]  \\\n",
       "3656                                0                           0   \n",
       "556                                 0                           0   \n",
       "959                                 0                           0   \n",
       "261                                 0                           1   \n",
       "\n",
       "      duration_days_(4.0, 7.0]  duration_days_(7.0, 11.0]  \\\n",
       "3656                         1                          0   \n",
       "556                          0                          1   \n",
       "959                          0                          1   \n",
       "261                          0                          0   \n",
       "\n",
       "      duration_days_(11.0, 16.0]  \n",
       "3656                           0  \n",
       "556                            0  \n",
       "959                            0  \n",
       "261                            0  "
      ]
     },
     "execution_count": 324,
     "metadata": {},
     "output_type": "execute_result"
    }
   ],
   "source": [
    "X = pd.get_dummies(X_aux, columns=['booking_client_age','duration_days'])\n",
    "X.sample(4)"
   ]
  },
  {
   "cell_type": "markdown",
   "metadata": {},
   "source": [
    "## Modelado\n",
    "\n",
    "- Divide el dataset generado en el paso anterior en entrenamiento y test siguiendo una proporción 0.8 - 0.2\n",
    "- Haz uso del comando GridSearchCV junto con mallas de hiperparámetros (param_grid) y los modelos predictivos de árbol de decisión para clasificación y regresión logística estudiados, para generar un modelo predictivo óptimo que maximice la puntuación **f1-score**\n",
    "- Para la mejor regresión logística obtenida, observa y pinta los coeficientes y realiza algún comentario u observación al respecto.\n",
    "- Para el mejor árbol de decisión obtenido,  observa y pinta la importancia de atributos (feature importances) y realiza algún comentario u observación al respecto.\n",
    "- Para el mejor modelo obtenido por la búsqueda GridSearchCV, realiza la predicción en TEST, y aporta las métricas accuracy, precission, recall así como la matriz de confusión, para el umbral estándar (0.5)\n",
    "\n",
    "- Para este mejor modelo, busca el umbral que satisfaga las siguientes condiciones, evaluando en TEST:\n",
    "    - Umbral mínimo que garantiza una precission del 80 %\n",
    "    - Umbral máximo que garantiza un recall del 60 %\n",
    "    - Umbral que maximiza la f1 score\n",
    "- Para el umbral que maximiza la f1, reporta los rendimientos f1 agrupando por hotel, ¿ para qué hoteles obtienes un peor rendimiento? "
   ]
  },
  {
   "cell_type": "code",
   "execution_count": 325,
   "metadata": {
    "scrolled": true
   },
   "outputs": [
    {
     "data": {
      "text/plain": [
       "0    3486\n",
       "1    1514\n",
       "Name: is_canceled, dtype: int64"
      ]
     },
     "execution_count": 325,
     "metadata": {},
     "output_type": "execute_result"
    }
   ],
   "source": [
    "df[\"is_canceled\"].value_counts()"
   ]
  },
  {
   "cell_type": "code",
   "execution_count": 326,
   "metadata": {},
   "outputs": [
    {
     "data": {
      "text/plain": [
       "((4000, 11), (4000,), (1000, 11), (1000,))"
      ]
     },
     "execution_count": 326,
     "metadata": {},
     "output_type": "execute_result"
    }
   ],
   "source": [
    "from sklearn.model_selection import train_test_split\n",
    "\n",
    "X_train, X_test, y_train, y_test = train_test_split(X, \n",
    "                                                    y, \n",
    "                                                    test_size=0.2, \n",
    "                                                    random_state=0)\n",
    "X_train.shape, y_train.shape, X_test.shape, y_test.shape"
   ]
  },
  {
   "cell_type": "markdown",
   "metadata": {},
   "source": [
    "### Regresión logística"
   ]
  },
  {
   "cell_type": "code",
   "execution_count": 327,
   "metadata": {},
   "outputs": [],
   "source": [
    "from sklearn.model_selection import GridSearchCV\n",
    "from sklearn.linear_model import LogisticRegression"
   ]
  },
  {
   "cell_type": "code",
   "execution_count": 328,
   "metadata": {},
   "outputs": [
    {
     "data": {
      "text/html": [
       "<style>#sk-container-id-27 {color: black;}#sk-container-id-27 pre{padding: 0;}#sk-container-id-27 div.sk-toggleable {background-color: white;}#sk-container-id-27 label.sk-toggleable__label {cursor: pointer;display: block;width: 100%;margin-bottom: 0;padding: 0.3em;box-sizing: border-box;text-align: center;}#sk-container-id-27 label.sk-toggleable__label-arrow:before {content: \"▸\";float: left;margin-right: 0.25em;color: #696969;}#sk-container-id-27 label.sk-toggleable__label-arrow:hover:before {color: black;}#sk-container-id-27 div.sk-estimator:hover label.sk-toggleable__label-arrow:before {color: black;}#sk-container-id-27 div.sk-toggleable__content {max-height: 0;max-width: 0;overflow: hidden;text-align: left;background-color: #f0f8ff;}#sk-container-id-27 div.sk-toggleable__content pre {margin: 0.2em;color: black;border-radius: 0.25em;background-color: #f0f8ff;}#sk-container-id-27 input.sk-toggleable__control:checked~div.sk-toggleable__content {max-height: 200px;max-width: 100%;overflow: auto;}#sk-container-id-27 input.sk-toggleable__control:checked~label.sk-toggleable__label-arrow:before {content: \"▾\";}#sk-container-id-27 div.sk-estimator input.sk-toggleable__control:checked~label.sk-toggleable__label {background-color: #d4ebff;}#sk-container-id-27 div.sk-label input.sk-toggleable__control:checked~label.sk-toggleable__label {background-color: #d4ebff;}#sk-container-id-27 input.sk-hidden--visually {border: 0;clip: rect(1px 1px 1px 1px);clip: rect(1px, 1px, 1px, 1px);height: 1px;margin: -1px;overflow: hidden;padding: 0;position: absolute;width: 1px;}#sk-container-id-27 div.sk-estimator {font-family: monospace;background-color: #f0f8ff;border: 1px dotted black;border-radius: 0.25em;box-sizing: border-box;margin-bottom: 0.5em;}#sk-container-id-27 div.sk-estimator:hover {background-color: #d4ebff;}#sk-container-id-27 div.sk-parallel-item::after {content: \"\";width: 100%;border-bottom: 1px solid gray;flex-grow: 1;}#sk-container-id-27 div.sk-label:hover label.sk-toggleable__label {background-color: #d4ebff;}#sk-container-id-27 div.sk-serial::before {content: \"\";position: absolute;border-left: 1px solid gray;box-sizing: border-box;top: 0;bottom: 0;left: 50%;z-index: 0;}#sk-container-id-27 div.sk-serial {display: flex;flex-direction: column;align-items: center;background-color: white;padding-right: 0.2em;padding-left: 0.2em;position: relative;}#sk-container-id-27 div.sk-item {position: relative;z-index: 1;}#sk-container-id-27 div.sk-parallel {display: flex;align-items: stretch;justify-content: center;background-color: white;position: relative;}#sk-container-id-27 div.sk-item::before, #sk-container-id-27 div.sk-parallel-item::before {content: \"\";position: absolute;border-left: 1px solid gray;box-sizing: border-box;top: 0;bottom: 0;left: 50%;z-index: -1;}#sk-container-id-27 div.sk-parallel-item {display: flex;flex-direction: column;z-index: 1;position: relative;background-color: white;}#sk-container-id-27 div.sk-parallel-item:first-child::after {align-self: flex-end;width: 50%;}#sk-container-id-27 div.sk-parallel-item:last-child::after {align-self: flex-start;width: 50%;}#sk-container-id-27 div.sk-parallel-item:only-child::after {width: 0;}#sk-container-id-27 div.sk-dashed-wrapped {border: 1px dashed gray;margin: 0 0.4em 0.5em 0.4em;box-sizing: border-box;padding-bottom: 0.4em;background-color: white;}#sk-container-id-27 div.sk-label label {font-family: monospace;font-weight: bold;display: inline-block;line-height: 1.2em;}#sk-container-id-27 div.sk-label-container {text-align: center;}#sk-container-id-27 div.sk-container {/* jupyter's `normalize.less` sets `[hidden] { display: none; }` but bootstrap.min.css set `[hidden] { display: none !important; }` so we also need the `!important` here to be able to override the default hidden behavior on the sphinx rendered scikit-learn.org. See: https://github.com/scikit-learn/scikit-learn/issues/21755 */display: inline-block !important;position: relative;}#sk-container-id-27 div.sk-text-repr-fallback {display: none;}</style><div id=\"sk-container-id-27\" class=\"sk-top-container\"><div class=\"sk-text-repr-fallback\"><pre>GridSearchCV(estimator=LogisticRegression(max_iter=1000), n_jobs=6,\n",
       "             param_grid={&#x27;C&#x27;: [0.001, 0.05, 0.01, 0.05, 1, 2, 5, 10]},\n",
       "             scoring=&#x27;f1&#x27;)</pre><b>In a Jupyter environment, please rerun this cell to show the HTML representation or trust the notebook. <br />On GitHub, the HTML representation is unable to render, please try loading this page with nbviewer.org.</b></div><div class=\"sk-container\" hidden><div class=\"sk-item sk-dashed-wrapped\"><div class=\"sk-label-container\"><div class=\"sk-label sk-toggleable\"><input class=\"sk-toggleable__control sk-hidden--visually\" id=\"sk-estimator-id-53\" type=\"checkbox\" ><label for=\"sk-estimator-id-53\" class=\"sk-toggleable__label sk-toggleable__label-arrow\">GridSearchCV</label><div class=\"sk-toggleable__content\"><pre>GridSearchCV(estimator=LogisticRegression(max_iter=1000), n_jobs=6,\n",
       "             param_grid={&#x27;C&#x27;: [0.001, 0.05, 0.01, 0.05, 1, 2, 5, 10]},\n",
       "             scoring=&#x27;f1&#x27;)</pre></div></div></div><div class=\"sk-parallel\"><div class=\"sk-parallel-item\"><div class=\"sk-item\"><div class=\"sk-label-container\"><div class=\"sk-label sk-toggleable\"><input class=\"sk-toggleable__control sk-hidden--visually\" id=\"sk-estimator-id-54\" type=\"checkbox\" ><label for=\"sk-estimator-id-54\" class=\"sk-toggleable__label sk-toggleable__label-arrow\">estimator: LogisticRegression</label><div class=\"sk-toggleable__content\"><pre>LogisticRegression(max_iter=1000)</pre></div></div></div><div class=\"sk-serial\"><div class=\"sk-item\"><div class=\"sk-estimator sk-toggleable\"><input class=\"sk-toggleable__control sk-hidden--visually\" id=\"sk-estimator-id-55\" type=\"checkbox\" ><label for=\"sk-estimator-id-55\" class=\"sk-toggleable__label sk-toggleable__label-arrow\">LogisticRegression</label><div class=\"sk-toggleable__content\"><pre>LogisticRegression(max_iter=1000)</pre></div></div></div></div></div></div></div></div></div></div>"
      ],
      "text/plain": [
       "GridSearchCV(estimator=LogisticRegression(max_iter=1000), n_jobs=6,\n",
       "             param_grid={'C': [0.001, 0.05, 0.01, 0.05, 1, 2, 5, 10]},\n",
       "             scoring='f1')"
      ]
     },
     "execution_count": 328,
     "metadata": {},
     "output_type": "execute_result"
    }
   ],
   "source": [
    "C_vec = [0.001, 0.05, 0.01, 0.05, 1, 2, 5, 10]\n",
    "param_grid = {\"C\": C_vec}\n",
    "\n",
    "grid_search = GridSearchCV(estimator=LogisticRegression(max_iter=1000),\n",
    "                           param_grid=param_grid,\n",
    "                           scoring='f1',\n",
    "                           n_jobs=6,\n",
    "                           refit=True)\n",
    "grid_search.fit(X_train, y_train)"
   ]
  },
  {
   "cell_type": "code",
   "execution_count": 329,
   "metadata": {},
   "outputs": [
    {
     "data": {
      "text/plain": [
       "{'C': 1}"
      ]
     },
     "execution_count": 329,
     "metadata": {},
     "output_type": "execute_result"
    }
   ],
   "source": [
    "grid_search.best_params_"
   ]
  },
  {
   "cell_type": "code",
   "execution_count": 330,
   "metadata": {},
   "outputs": [
    {
     "data": {
      "text/plain": [
       "0.39313023435439504"
      ]
     },
     "execution_count": 330,
     "metadata": {},
     "output_type": "execute_result"
    }
   ],
   "source": [
    "grid_search.best_score_"
   ]
  },
  {
   "cell_type": "code",
   "execution_count": 333,
   "metadata": {},
   "outputs": [
    {
     "data": {
      "text/plain": [
       "booking_client_age_(66.0, 76.0]     -0.895039\n",
       "duration_days_(11.0, 16.0]          -0.712221\n",
       "booking_client_age_(58.0, 66.0]     -0.667088\n",
       "guests                               0.050641\n",
       "booking_client_age_(49.0, 58.0]      0.077001\n",
       "booking_client_age_(39.0, 49.0]      0.138519\n",
       "duration_days_(7.0, 11.0]            0.195242\n",
       "booking_client_age_(29.0, 39.0]      0.202934\n",
       "duration_days_(0.999, 4.0]           0.213083\n",
       "duration_days_(4.0, 7.0]             0.303936\n",
       "booking_client_age_(19.999, 29.0]    1.143715\n",
       "dtype: float64"
      ]
     },
     "execution_count": 333,
     "metadata": {},
     "output_type": "execute_result"
    }
   ],
   "source": [
    "coeff_series = pd.Series(grid_search.best_estimator_.coef_[0], index=X_train.columns).sort_values()\n",
    "coeff_series"
   ]
  },
  {
   "cell_type": "code",
   "execution_count": 334,
   "metadata": {},
   "outputs": [
    {
     "data": {
      "image/png": "[encoded data removed]",
      "text/plain": [
       "<Figure size 432x288 with 1 Axes>"
      ]
     },
     "metadata": {
      "needs_background": "light"
     },
     "output_type": "display_data"
    }
   ],
   "source": [
    "coeff_series.plot.barh()"
   ]
  },
  {
   "cell_type": "markdown",
   "metadata": {},
   "source": [
    "Al representar los diferentes coeficientes del modelo, se puede apreciar que aquellos que tienen valor negativo corresponden con las categorías que en el estudio de las variables (EDA) pudieron ser interpretadas a partir de los gráficos como categorías menos influyentes que afectaban a la cancelación de la reserva, esto es: clientes de edades entre los 58-76 años y aquellas reservas que son de larga duración (> 11 días)."
   ]
  },
  {
   "cell_type": "markdown",
   "metadata": {},
   "source": [
    "### Árbol de decisión"
   ]
  },
  {
   "cell_type": "code",
   "execution_count": 335,
   "metadata": {},
   "outputs": [
    {
     "data": {
      "text/html": [
       "<style>#sk-container-id-29 {color: black;}#sk-container-id-29 pre{padding: 0;}#sk-container-id-29 div.sk-toggleable {background-color: white;}#sk-container-id-29 label.sk-toggleable__label {cursor: pointer;display: block;width: 100%;margin-bottom: 0;padding: 0.3em;box-sizing: border-box;text-align: center;}#sk-container-id-29 label.sk-toggleable__label-arrow:before {content: \"▸\";float: left;margin-right: 0.25em;color: #696969;}#sk-container-id-29 label.sk-toggleable__label-arrow:hover:before {color: black;}#sk-container-id-29 div.sk-estimator:hover label.sk-toggleable__label-arrow:before {color: black;}#sk-container-id-29 div.sk-toggleable__content {max-height: 0;max-width: 0;overflow: hidden;text-align: left;background-color: #f0f8ff;}#sk-container-id-29 div.sk-toggleable__content pre {margin: 0.2em;color: black;border-radius: 0.25em;background-color: #f0f8ff;}#sk-container-id-29 input.sk-toggleable__control:checked~div.sk-toggleable__content {max-height: 200px;max-width: 100%;overflow: auto;}#sk-container-id-29 input.sk-toggleable__control:checked~label.sk-toggleable__label-arrow:before {content: \"▾\";}#sk-container-id-29 div.sk-estimator input.sk-toggleable__control:checked~label.sk-toggleable__label {background-color: #d4ebff;}#sk-container-id-29 div.sk-label input.sk-toggleable__control:checked~label.sk-toggleable__label {background-color: #d4ebff;}#sk-container-id-29 input.sk-hidden--visually {border: 0;clip: rect(1px 1px 1px 1px);clip: rect(1px, 1px, 1px, 1px);height: 1px;margin: -1px;overflow: hidden;padding: 0;position: absolute;width: 1px;}#sk-container-id-29 div.sk-estimator {font-family: monospace;background-color: #f0f8ff;border: 1px dotted black;border-radius: 0.25em;box-sizing: border-box;margin-bottom: 0.5em;}#sk-container-id-29 div.sk-estimator:hover {background-color: #d4ebff;}#sk-container-id-29 div.sk-parallel-item::after {content: \"\";width: 100%;border-bottom: 1px solid gray;flex-grow: 1;}#sk-container-id-29 div.sk-label:hover label.sk-toggleable__label {background-color: #d4ebff;}#sk-container-id-29 div.sk-serial::before {content: \"\";position: absolute;border-left: 1px solid gray;box-sizing: border-box;top: 0;bottom: 0;left: 50%;z-index: 0;}#sk-container-id-29 div.sk-serial {display: flex;flex-direction: column;align-items: center;background-color: white;padding-right: 0.2em;padding-left: 0.2em;position: relative;}#sk-container-id-29 div.sk-item {position: relative;z-index: 1;}#sk-container-id-29 div.sk-parallel {display: flex;align-items: stretch;justify-content: center;background-color: white;position: relative;}#sk-container-id-29 div.sk-item::before, #sk-container-id-29 div.sk-parallel-item::before {content: \"\";position: absolute;border-left: 1px solid gray;box-sizing: border-box;top: 0;bottom: 0;left: 50%;z-index: -1;}#sk-container-id-29 div.sk-parallel-item {display: flex;flex-direction: column;z-index: 1;position: relative;background-color: white;}#sk-container-id-29 div.sk-parallel-item:first-child::after {align-self: flex-end;width: 50%;}#sk-container-id-29 div.sk-parallel-item:last-child::after {align-self: flex-start;width: 50%;}#sk-container-id-29 div.sk-parallel-item:only-child::after {width: 0;}#sk-container-id-29 div.sk-dashed-wrapped {border: 1px dashed gray;margin: 0 0.4em 0.5em 0.4em;box-sizing: border-box;padding-bottom: 0.4em;background-color: white;}#sk-container-id-29 div.sk-label label {font-family: monospace;font-weight: bold;display: inline-block;line-height: 1.2em;}#sk-container-id-29 div.sk-label-container {text-align: center;}#sk-container-id-29 div.sk-container {/* jupyter's `normalize.less` sets `[hidden] { display: none; }` but bootstrap.min.css set `[hidden] { display: none !important; }` so we also need the `!important` here to be able to override the default hidden behavior on the sphinx rendered scikit-learn.org. See: https://github.com/scikit-learn/scikit-learn/issues/21755 */display: inline-block !important;position: relative;}#sk-container-id-29 div.sk-text-repr-fallback {display: none;}</style><div id=\"sk-container-id-29\" class=\"sk-top-container\"><div class=\"sk-text-repr-fallback\"><pre>GridSearchCV(estimator=DecisionTreeClassifier(), n_jobs=6,\n",
       "             param_grid={&#x27;max_leaf_nodes&#x27;: [16, 64, 256],\n",
       "                         &#x27;min_samples_leaf&#x27;: [20, 60, 100]},\n",
       "             scoring=&#x27;f1&#x27;)</pre><b>In a Jupyter environment, please rerun this cell to show the HTML representation or trust the notebook. <br />On GitHub, the HTML representation is unable to render, please try loading this page with nbviewer.org.</b></div><div class=\"sk-container\" hidden><div class=\"sk-item sk-dashed-wrapped\"><div class=\"sk-label-container\"><div class=\"sk-label sk-toggleable\"><input class=\"sk-toggleable__control sk-hidden--visually\" id=\"sk-estimator-id-57\" type=\"checkbox\" ><label for=\"sk-estimator-id-57\" class=\"sk-toggleable__label sk-toggleable__label-arrow\">GridSearchCV</label><div class=\"sk-toggleable__content\"><pre>GridSearchCV(estimator=DecisionTreeClassifier(), n_jobs=6,\n",
       "             param_grid={&#x27;max_leaf_nodes&#x27;: [16, 64, 256],\n",
       "                         &#x27;min_samples_leaf&#x27;: [20, 60, 100]},\n",
       "             scoring=&#x27;f1&#x27;)</pre></div></div></div><div class=\"sk-parallel\"><div class=\"sk-parallel-item\"><div class=\"sk-item\"><div class=\"sk-label-container\"><div class=\"sk-label sk-toggleable\"><input class=\"sk-toggleable__control sk-hidden--visually\" id=\"sk-estimator-id-58\" type=\"checkbox\" ><label for=\"sk-estimator-id-58\" class=\"sk-toggleable__label sk-toggleable__label-arrow\">estimator: DecisionTreeClassifier</label><div class=\"sk-toggleable__content\"><pre>DecisionTreeClassifier()</pre></div></div></div><div class=\"sk-serial\"><div class=\"sk-item\"><div class=\"sk-estimator sk-toggleable\"><input class=\"sk-toggleable__control sk-hidden--visually\" id=\"sk-estimator-id-59\" type=\"checkbox\" ><label for=\"sk-estimator-id-59\" class=\"sk-toggleable__label sk-toggleable__label-arrow\">DecisionTreeClassifier</label><div class=\"sk-toggleable__content\"><pre>DecisionTreeClassifier()</pre></div></div></div></div></div></div></div></div></div></div>"
      ],
      "text/plain": [
       "GridSearchCV(estimator=DecisionTreeClassifier(), n_jobs=6,\n",
       "             param_grid={'max_leaf_nodes': [16, 64, 256],\n",
       "                         'min_samples_leaf': [20, 60, 100]},\n",
       "             scoring='f1')"
      ]
     },
     "execution_count": 335,
     "metadata": {},
     "output_type": "execute_result"
    }
   ],
   "source": [
    "from sklearn.tree import DecisionTreeClassifier\n",
    "\n",
    "param_grid = {\n",
    "    \"max_leaf_nodes\": [2 ** 4, 2 ** 6, 2 ** 8],\n",
    "    \"min_samples_leaf\": [20, 60, 100]\n",
    "}\n",
    "\n",
    "grid_searchDT = GridSearchCV(estimator=DecisionTreeClassifier(),\n",
    "                           param_grid=param_grid,\n",
    "                           scoring='f1',\n",
    "                           n_jobs=6,\n",
    "                           refit=True)\n",
    "grid_searchDT.fit(X_train, y_train)"
   ]
  },
  {
   "cell_type": "code",
   "execution_count": 336,
   "metadata": {},
   "outputs": [
    {
     "data": {
      "text/plain": [
       "{'max_leaf_nodes': 64, 'min_samples_leaf': 20}"
      ]
     },
     "execution_count": 336,
     "metadata": {},
     "output_type": "execute_result"
    }
   ],
   "source": [
    "grid_searchDT.best_params_"
   ]
  },
  {
   "cell_type": "code",
   "execution_count": 309,
   "metadata": {},
   "outputs": [
    {
     "data": {
      "text/plain": [
       "0.36524182974323116"
      ]
     },
     "execution_count": 309,
     "metadata": {},
     "output_type": "execute_result"
    }
   ],
   "source": [
    "grid_searchDT.best_score_"
   ]
  },
  {
   "cell_type": "code",
   "execution_count": 338,
   "metadata": {},
   "outputs": [
    {
     "data": {
      "text/plain": [
       "array([0.13949811, 0.43900221, 0.00701026, 0.01022159, 0.01311075,\n",
       "       0.07663821, 0.08743502, 0.03337245, 0.01067965, 0.0145545 ,\n",
       "       0.16847726])"
      ]
     },
     "execution_count": 338,
     "metadata": {},
     "output_type": "execute_result"
    }
   ],
   "source": [
    "grid_searchDT.best_estimator_.feature_importances_"
   ]
  },
  {
   "cell_type": "code",
   "execution_count": 339,
   "metadata": {},
   "outputs": [
    {
     "data": {
      "text/plain": [
       "booking_client_age_(29.0, 39.0]      0.007010\n",
       "booking_client_age_(39.0, 49.0]      0.010222\n",
       "duration_days_(4.0, 7.0]             0.010680\n",
       "booking_client_age_(49.0, 58.0]      0.013111\n",
       "duration_days_(7.0, 11.0]            0.014555\n",
       "duration_days_(0.999, 4.0]           0.033372\n",
       "booking_client_age_(58.0, 66.0]      0.076638\n",
       "booking_client_age_(66.0, 76.0]      0.087435\n",
       "guests                               0.139498\n",
       "duration_days_(11.0, 16.0]           0.168477\n",
       "booking_client_age_(19.999, 29.0]    0.439002\n",
       "dtype: float64"
      ]
     },
     "execution_count": 339,
     "metadata": {},
     "output_type": "execute_result"
    }
   ],
   "source": [
    "importance_series = pd.Series(grid_searchDT.best_estimator_.feature_importances_, index=X_train.columns).sort_values()\n",
    "importance_series"
   ]
  },
  {
   "cell_type": "code",
   "execution_count": 340,
   "metadata": {},
   "outputs": [
    {
     "data": {
      "text/plain": [
       "<AxesSubplot:>"
      ]
     },
     "execution_count": 340,
     "metadata": {},
     "output_type": "execute_result"
    },
    {
     "data": {
      "image/png": "[encoded data removed]",
      "text/plain": [
       "<Figure size 432x288 with 1 Axes>"
      ]
     },
     "metadata": {
      "needs_background": "light"
     },
     "output_type": "display_data"
    }
   ],
   "source": [
    "importance_series.plot.barh()"
   ]
  },
  {
   "cell_type": "markdown",
   "metadata": {},
   "source": [
    "A partir de esta representación se ve que aquellas que han sido menos decisivas a la hora de realizar la clasificación durante el entrenamiento, corresponden con los rangos intermedios de las variables 'booking_client_edad' y 'duration_days'. Es decir, que los grupos de edad más decisivos han sido los más jóvenes (20-29 años) y los clientes de mayor edad (de 58 a 76 años). Con respecto a la duración de la estancia, también presentan mayor peso los grupos de los extremos, sobre todo, reservas más largas (de 12-16 días). \n",
    "\n",
    "También se aprecia que el número de huéspedes en la reserva posee un peso considerable a la hora de determinar si la reserva se cancela o no."
   ]
  },
  {
   "cell_type": "markdown",
   "metadata": {},
   "source": [
    "### Predicción con mejor modelo obtenido por GridSearchCV"
   ]
  },
  {
   "cell_type": "code",
   "execution_count": 344,
   "metadata": {},
   "outputs": [
    {
     "data": {
      "text/html": [
       "<style>#sk-container-id-30 {color: black;}#sk-container-id-30 pre{padding: 0;}#sk-container-id-30 div.sk-toggleable {background-color: white;}#sk-container-id-30 label.sk-toggleable__label {cursor: pointer;display: block;width: 100%;margin-bottom: 0;padding: 0.3em;box-sizing: border-box;text-align: center;}#sk-container-id-30 label.sk-toggleable__label-arrow:before {content: \"▸\";float: left;margin-right: 0.25em;color: #696969;}#sk-container-id-30 label.sk-toggleable__label-arrow:hover:before {color: black;}#sk-container-id-30 div.sk-estimator:hover label.sk-toggleable__label-arrow:before {color: black;}#sk-container-id-30 div.sk-toggleable__content {max-height: 0;max-width: 0;overflow: hidden;text-align: left;background-color: #f0f8ff;}#sk-container-id-30 div.sk-toggleable__content pre {margin: 0.2em;color: black;border-radius: 0.25em;background-color: #f0f8ff;}#sk-container-id-30 input.sk-toggleable__control:checked~div.sk-toggleable__content {max-height: 200px;max-width: 100%;overflow: auto;}#sk-container-id-30 input.sk-toggleable__control:checked~label.sk-toggleable__label-arrow:before {content: \"▾\";}#sk-container-id-30 div.sk-estimator input.sk-toggleable__control:checked~label.sk-toggleable__label {background-color: #d4ebff;}#sk-container-id-30 div.sk-label input.sk-toggleable__control:checked~label.sk-toggleable__label {background-color: #d4ebff;}#sk-container-id-30 input.sk-hidden--visually {border: 0;clip: rect(1px 1px 1px 1px);clip: rect(1px, 1px, 1px, 1px);height: 1px;margin: -1px;overflow: hidden;padding: 0;position: absolute;width: 1px;}#sk-container-id-30 div.sk-estimator {font-family: monospace;background-color: #f0f8ff;border: 1px dotted black;border-radius: 0.25em;box-sizing: border-box;margin-bottom: 0.5em;}#sk-container-id-30 div.sk-estimator:hover {background-color: #d4ebff;}#sk-container-id-30 div.sk-parallel-item::after {content: \"\";width: 100%;border-bottom: 1px solid gray;flex-grow: 1;}#sk-container-id-30 div.sk-label:hover label.sk-toggleable__label {background-color: #d4ebff;}#sk-container-id-30 div.sk-serial::before {content: \"\";position: absolute;border-left: 1px solid gray;box-sizing: border-box;top: 0;bottom: 0;left: 50%;z-index: 0;}#sk-container-id-30 div.sk-serial {display: flex;flex-direction: column;align-items: center;background-color: white;padding-right: 0.2em;padding-left: 0.2em;position: relative;}#sk-container-id-30 div.sk-item {position: relative;z-index: 1;}#sk-container-id-30 div.sk-parallel {display: flex;align-items: stretch;justify-content: center;background-color: white;position: relative;}#sk-container-id-30 div.sk-item::before, #sk-container-id-30 div.sk-parallel-item::before {content: \"\";position: absolute;border-left: 1px solid gray;box-sizing: border-box;top: 0;bottom: 0;left: 50%;z-index: -1;}#sk-container-id-30 div.sk-parallel-item {display: flex;flex-direction: column;z-index: 1;position: relative;background-color: white;}#sk-container-id-30 div.sk-parallel-item:first-child::after {align-self: flex-end;width: 50%;}#sk-container-id-30 div.sk-parallel-item:last-child::after {align-self: flex-start;width: 50%;}#sk-container-id-30 div.sk-parallel-item:only-child::after {width: 0;}#sk-container-id-30 div.sk-dashed-wrapped {border: 1px dashed gray;margin: 0 0.4em 0.5em 0.4em;box-sizing: border-box;padding-bottom: 0.4em;background-color: white;}#sk-container-id-30 div.sk-label label {font-family: monospace;font-weight: bold;display: inline-block;line-height: 1.2em;}#sk-container-id-30 div.sk-label-container {text-align: center;}#sk-container-id-30 div.sk-container {/* jupyter's `normalize.less` sets `[hidden] { display: none; }` but bootstrap.min.css set `[hidden] { display: none !important; }` so we also need the `!important` here to be able to override the default hidden behavior on the sphinx rendered scikit-learn.org. See: https://github.com/scikit-learn/scikit-learn/issues/21755 */display: inline-block !important;position: relative;}#sk-container-id-30 div.sk-text-repr-fallback {display: none;}</style><div id=\"sk-container-id-30\" class=\"sk-top-container\"><div class=\"sk-text-repr-fallback\"><pre>LogisticRegression(C=1, max_iter=1000)</pre><b>In a Jupyter environment, please rerun this cell to show the HTML representation or trust the notebook. <br />On GitHub, the HTML representation is unable to render, please try loading this page with nbviewer.org.</b></div><div class=\"sk-container\" hidden><div class=\"sk-item\"><div class=\"sk-estimator sk-toggleable\"><input class=\"sk-toggleable__control sk-hidden--visually\" id=\"sk-estimator-id-60\" type=\"checkbox\" checked><label for=\"sk-estimator-id-60\" class=\"sk-toggleable__label sk-toggleable__label-arrow\">LogisticRegression</label><div class=\"sk-toggleable__content\"><pre>LogisticRegression(C=1, max_iter=1000)</pre></div></div></div></div></div>"
      ],
      "text/plain": [
       "LogisticRegression(C=1, max_iter=1000)"
      ]
     },
     "execution_count": 344,
     "metadata": {},
     "output_type": "execute_result"
    }
   ],
   "source": [
    "if grid_search.best_score_ > grid_searchDT.best_score_:\n",
    "    model = grid_search.best_estimator_\n",
    "else:\n",
    "    model = grid_searchDT.best_estimator_\n",
    "model"
   ]
  },
  {
   "cell_type": "code",
   "execution_count": 345,
   "metadata": {},
   "outputs": [],
   "source": [
    "y_test_pred = model.predict(X_test)"
   ]
  },
  {
   "cell_type": "code",
   "execution_count": 346,
   "metadata": {},
   "outputs": [
    {
     "name": "stdout",
     "output_type": "stream",
     "text": [
      "              precision    recall  f1-score   support\n",
      "\n",
      "           0       0.74      0.93      0.82       696\n",
      "           1       0.60      0.25      0.36       304\n",
      "\n",
      "    accuracy                           0.72      1000\n",
      "   macro avg       0.67      0.59      0.59      1000\n",
      "weighted avg       0.70      0.72      0.68      1000\n",
      "\n",
      "Precission: 0.5968992248062015\n",
      "Recall: 0.2532894736842105\n",
      "F1-score: 0.3556581986143187\n"
     ]
    }
   ],
   "source": [
    "from sklearn.metrics import classification_report, f1_score\n",
    "from sklearn.metrics import precision_score, recall_score, f1_score\n",
    "\n",
    "print(classification_report(y_test, y_test_pred))\n",
    "print(\"Precission:\", precision_score(y_true=y_test, y_pred=y_test_pred))\n",
    "print(\"Recall:\", recall_score(y_true=y_test, y_pred=y_test_pred))\n",
    "print(\"F1-score:\", f1_score(y_true=y_test, y_pred=y_test_pred))"
   ]
  },
  {
   "cell_type": "code",
   "execution_count": 347,
   "metadata": {},
   "outputs": [],
   "source": [
    "y_test_pred_proba = grid_search.best_estimator_.predict_proba(X_test)[:, 1]"
   ]
  },
  {
   "cell_type": "code",
   "execution_count": 348,
   "metadata": {},
   "outputs": [
    {
     "name": "stdout",
     "output_type": "stream",
     "text": [
      "Precission: 0.5968992248062015\n",
      "Recall: 0.2532894736842105\n",
      "F1-score: 0.3556581986143187\n"
     ]
    }
   ],
   "source": [
    "THRESHOLD = 0.5\n",
    "\n",
    "pred = (y_test_pred_proba > THRESHOLD).astype('int')\n",
    "print(\"Precission:\", precision_score(y_true=y_test, y_pred=pred))\n",
    "print(\"Recall:\", recall_score(y_true=y_test, y_pred=pred))\n",
    "print(\"F1-score:\", f1_score(y_true=y_test, y_pred=pred))"
   ]
  },
  {
   "cell_type": "code",
   "execution_count": 349,
   "metadata": {},
   "outputs": [],
   "source": [
    "from sklearn.metrics import confusion_matrix, ConfusionMatrixDisplay"
   ]
  },
  {
   "cell_type": "code",
   "execution_count": 359,
   "metadata": {},
   "outputs": [
    {
     "name": "stdout",
     "output_type": "stream",
     "text": [
      "Precission: 0.5968992248062015\n",
      "Recall: 0.2532894736842105\n",
      "F1-score: 0.3556581986143187\n"
     ]
    },
    {
     "data": {
      "image/png": "[encoded data removed]",
      "text/plain": [
       "<Figure size 432x288 with 2 Axes>"
      ]
     },
     "metadata": {
      "needs_background": "light"
     },
     "output_type": "display_data"
    }
   ],
   "source": [
    "threshold = 0.5\n",
    "labels = [0, 1]\n",
    "\n",
    "custom_prediction = y_test_pred_proba > threshold\n",
    "cm = confusion_matrix(y_true, \n",
    "                      custom_prediction, \n",
    "                      labels=labels)\n",
    "\n",
    "disp = ConfusionMatrixDisplay(confusion_matrix=cm,\n",
    "                              display_labels=labels)\n",
    "print(\"Precission:\", precision_score(y_true=y_test, y_pred=custom_prediction))\n",
    "print(\"Recall:\", recall_score(y_true=y_test, y_pred=custom_prediction))\n",
    "print(\"F1-score:\", f1_score(y_true=y_test, y_pred=custom_prediction))\n",
    "disp.plot()\n",
    "plt.show()"
   ]
  },
  {
   "cell_type": "markdown",
   "metadata": {},
   "source": [
    "Utilizando el umbral 0.5, el modelo no es del todo óptimo. \n",
    "\n",
    "Para empezar hay un porcentaje del 25% para el recall, es decir, que hay una tasa baja de ausencia de falsos negativos, esto significa que el modelo predice 3 de cada 4 casos que la reserva **no** se cancela cuando en realidad **sí** que se cancela. Por tanto, es poco interesante para nuestro objetivo.\n",
    "\n",
    "Con respecto al valor de precision, aproximadamente, del 60%, se trata de un resultado relativamente bueno, ya que puede asegurar que en 6 de cada 10 casos no se producirá un falso positivo."
   ]
  },
  {
   "cell_type": "markdown",
   "metadata": {},
   "source": [
    "### Umbral mínimo para precision 80%"
   ]
  },
  {
   "cell_type": "code",
   "execution_count": 368,
   "metadata": {},
   "outputs": [
    {
     "data": {
      "text/plain": [
       "(0.65, 1.0)"
      ]
     },
     "execution_count": 368,
     "metadata": {},
     "output_type": "execute_result"
    }
   ],
   "source": [
    "threshold_list = np.linspace(0, 1, 21)[1:-1]\n",
    "test_precision_score_list = []\n",
    "\n",
    "NEEDED_METRIC = 0.8\n",
    "\n",
    "for threshold in threshold_list:\n",
    "    pred = (y_test_pred_proba > threshold).astype('int')\n",
    "    metric = precision_score(y_true=y_test, y_pred=pred)\n",
    "    test_precision_score_list.append(metric)\n",
    "    if metric >= NEEDED_METRIC:\n",
    "        break\n",
    "        \n",
    "threshold, metric"
   ]
  },
  {
   "cell_type": "markdown",
   "metadata": {},
   "source": [
    "El umbral mínimo con el que se puede alcanzar el 80% de precisión es de 0.65"
   ]
  },
  {
   "cell_type": "markdown",
   "metadata": {},
   "source": [
    "### Umbral máximo para recall 60%"
   ]
  },
  {
   "cell_type": "code",
   "execution_count": 363,
   "metadata": {},
   "outputs": [
    {
     "data": {
      "text/plain": [
       "(0.30000000000000004, 0.7072368421052632)"
      ]
     },
     "execution_count": 363,
     "metadata": {},
     "output_type": "execute_result"
    }
   ],
   "source": [
    "threshold_list = np.linspace(0, 1, 21)[1:-1][::-1]\n",
    "test_recall_score_list = []\n",
    "\n",
    "NEEDED_METRIC = 0.6\n",
    "\n",
    "for threshold in threshold_list:\n",
    "    pred = (y_test_pred_proba > threshold).astype('int')\n",
    "    metric = recall_score(y_true=y_test, y_pred=pred)\n",
    "    test_recall_score_list.append(metric)\n",
    "    if metric >= NEEDED_METRIC:\n",
    "        break\n",
    "        \n",
    "threshold, metric"
   ]
  },
  {
   "cell_type": "markdown",
   "metadata": {},
   "source": [
    "Para poder asegurar un 60% de recall, es necesario un umbral de 0.3"
   ]
  },
  {
   "cell_type": "markdown",
   "metadata": {},
   "source": [
    "### Umbral que maximiza f1"
   ]
  },
  {
   "cell_type": "code",
   "execution_count": 369,
   "metadata": {},
   "outputs": [
    {
     "data": {
      "text/plain": [
       "array([0.05, 0.1 , 0.15, 0.2 , 0.25, 0.3 , 0.35, 0.4 , 0.45, 0.5 , 0.55,\n",
       "       0.6 , 0.65, 0.7 , 0.75, 0.8 , 0.85, 0.9 , 0.95])"
      ]
     },
     "execution_count": 369,
     "metadata": {},
     "output_type": "execute_result"
    }
   ],
   "source": [
    "threshold_list = np.linspace(0, 1, 21)[1:-1]\n",
    "test_f1_score_list = []\n",
    "\n",
    "for threshold in threshold_list:\n",
    "    pred = (y_test_pred_proba > threshold).astype('int')\n",
    "    metric = f1_score(y_true=y_test, y_pred=pred)\n",
    "    test_f1_score_list.append(metric)\n",
    "    \n",
    "threshold_list"
   ]
  },
  {
   "cell_type": "code",
   "execution_count": 370,
   "metadata": {},
   "outputs": [
    {
     "data": {
      "text/plain": [
       "[0.4662576687116564,\n",
       " 0.482200647249191,\n",
       " 0.48776223776223776,\n",
       " 0.5298759864712513,\n",
       " 0.5221445221445221,\n",
       " 0.5119047619047619,\n",
       " 0.4557823129251701,\n",
       " 0.41613588110403393,\n",
       " 0.3648648648648649,\n",
       " 0.3556581986143187,\n",
       " 0.35648148148148145,\n",
       " 0.125748502994012,\n",
       " 0.032362459546925564,\n",
       " 0.006557377049180327,\n",
       " 0.0,\n",
       " 0.0,\n",
       " 0.0,\n",
       " 0.0,\n",
       " 0.0]"
      ]
     },
     "execution_count": 370,
     "metadata": {},
     "output_type": "execute_result"
    }
   ],
   "source": [
    "test_f1_score_list"
   ]
  },
  {
   "cell_type": "code",
   "execution_count": 371,
   "metadata": {},
   "outputs": [
    {
     "data": {
      "text/plain": [
       "0.2"
      ]
     },
     "execution_count": 371,
     "metadata": {},
     "output_type": "execute_result"
    }
   ],
   "source": [
    "threshold_list[np.argmax(test_f1_score_list)]"
   ]
  },
  {
   "cell_type": "code",
   "execution_count": 372,
   "metadata": {},
   "outputs": [
    {
     "data": {
      "text/plain": [
       "array([0.31615277, 0.47874018, 0.49994629, 0.51326092, 0.52130842,\n",
       "       0.49661053, 0.46127432, 0.41226102, 0.37888631, 0.35900151,\n",
       "       0.27929606, 0.17153081, 0.05488945, 0.01297328, 0.00218579,\n",
       "       0.        , 0.        , 0.        , 0.        ])"
      ]
     },
     "execution_count": 372,
     "metadata": {},
     "output_type": "execute_result"
    }
   ],
   "source": [
    "def moving_avg(x, w):\n",
    "    return np.convolve(x, np.ones(w), 'same') /w\n",
    "\n",
    "smoothed_test_f1_score_arr = moving_avg(test_f1_score_list,3)\n",
    "smoothed_test_f1_score_arr"
   ]
  },
  {
   "cell_type": "code",
   "execution_count": 373,
   "metadata": {},
   "outputs": [
    {
     "data": {
      "text/plain": [
       "0.25"
      ]
     },
     "execution_count": 373,
     "metadata": {},
     "output_type": "execute_result"
    }
   ],
   "source": [
    "optimal_threshold= threshold_list[np.argmax(smoothed_test_f1_score_arr)]\n",
    "optimal_threshold"
   ]
  },
  {
   "cell_type": "code",
   "execution_count": 374,
   "metadata": {},
   "outputs": [
    {
     "data": {
      "text/plain": [
       "[<matplotlib.lines.Line2D at 0x2bb670f5eb0>]"
      ]
     },
     "execution_count": 374,
     "metadata": {},
     "output_type": "execute_result"
    },
    {
     "data": {
      "image/png": "[encoded data removed]",
      "text/plain": [
       "<Figure size 432x288 with 1 Axes>"
      ]
     },
     "metadata": {
      "needs_background": "light"
     },
     "output_type": "display_data"
    }
   ],
   "source": [
    "plt.plot(threshold_list, test_f1_score_list, 'x-')\n",
    "plt.plot(threshold_list, smoothed_test_f1_score_arr, 'x-')"
   ]
  },
  {
   "cell_type": "markdown",
   "metadata": {},
   "source": [
    "El umbral que maximiza el valor de f1 es 0.25"
   ]
  },
  {
   "cell_type": "markdown",
   "metadata": {},
   "source": [
    "### Rendimientos f1 agrupando por hotel"
   ]
  },
  {
   "cell_type": "code",
   "execution_count": 376,
   "metadata": {},
   "outputs": [
    {
     "name": "stdout",
     "output_type": "stream",
     "text": [
      "Precission: 0.4043321299638989\n",
      "Recall: 0.7368421052631579\n",
      "F1-score: 0.5221445221445221\n"
     ]
    }
   ],
   "source": [
    "THRESHOLD = optimal_threshold\n",
    "\n",
    "pred = (y_test_pred_proba > THRESHOLD).astype('int')\n",
    "print(\"Precission:\", precision_score(y_true=y_test, y_pred=pred))\n",
    "print(\"Recall:\", recall_score(y_true=y_test, y_pred=pred))\n",
    "print(\"F1-score:\", f1_score(y_true=y_test, y_pred=pred))"
   ]
  },
  {
   "cell_type": "code",
   "execution_count": null,
   "metadata": {},
   "outputs": [],
   "source": []
  },
  {
   "cell_type": "code",
   "execution_count": null,
   "metadata": {},
   "outputs": [],
   "source": []
  },
  {
   "cell_type": "markdown",
   "metadata": {},
   "source": [
    "# Análisis final\n",
    "\n",
    "Tenemos una entrevista con el departamento de marketing de la empresa para explicar los modelos obtenidos y el análisis en profundidad acometido, que asentará nuestro amplio conocimiento y habilidades analíticas de cara a la cadena hotelera y nos garantizará futuros contratos, nos preguntan elementos esenciales como:\n",
    "\n",
    "- ¿ qué hoteles o países de hoteles tienen una mayor tasa de cancelación? \n",
    "\n",
    "_Destacan los hoteles GGE, NAD, BXO, LMD, IKL por presentar una tasa muy superior a la media_\n",
    "\n",
    "- ¿ qué países de cliente tienen una mayor tasa de cancelación?\n",
    "\n",
    "_Groenlandia, Aruba, Bielorrusia, Mauritania, Brasil, Austria y Bangladesh._\n",
    "\n",
    "- ¿ existen rangos de edad para los cuales la tasa de cancelación es mayor o menor que la media?\n",
    "\n",
    "_Sí. Como se ha visto en la EDA de las nuevas variables creadas a partir de las iniciales, los jóvenes de entre 20-29 años tienden a realizar más cancelaciones que personas de mayor edad (entre los 58 y 76 años), quedándo estos últimos muy por debajo de la media._\n",
    "\n",
    "- ¿ afecta la anticipación en la reserva de algún modo a la tasa de cancelación?\n",
    "\n",
    "_No se ha estudiado esta variable._\n",
    "\n",
    "\n",
    "- ¿ hay algún tipo de habitación que sufra mayor propensión a las cancelaciones?\n",
    "\n",
    "_Se puede ver una tendencia que indica que aquellas reservas en las que las habitaciones son de los tipos menos comunes (luxury, triple, suite) superan la media de cancelaciones._\n",
    "\n",
    "- ¿ afecta la distribución de los huéspedes de algún modo a la tasa de cancelación?\n",
    "\n",
    "_Se ha podido analizar que aquellas reservas en donde el número de huéspedes es superior a 4 personas, la tasa de cancelación es más alta._\n",
    "\n",
    "- ¿ afectan los servicios disponibles del hotel a la tasa de cancelación?\n",
    "\n",
    "_En en análisis de la EDA inicial se pudo comprobar que la tasa de cancelaciones era similar con respecto a las reservas no canceladas para cualquier servicio del hotel. Por lo que las instalaciones que posea el hotel no parecen ser decisivas a la hora de realizar una cancelación._\n",
    "\n",
    "- ¿ qué activaciones de marketing/comerciales podemos realizar sobre la predicción del modelo de cancelaciones para reducir las mismas y mejorar la tasa de reservas que se completan?\n",
    "\n",
    "_Si se trata de una persona jóven, se podría ofrecer un descuento en la próxima reserva que se realice una vez finalice la reserva que acaba de realizar.\n",
    "Si es un grupo numeroso, podría ofrecerse un paquete de actividades en grupo acorde al destino de la reserva para hacer más atractiva la estancia y evitar que sea cancelada.\n",
    "En caso de que la reserva sea en alguno de los hoteles que presentan más tasa de cancelación, se podría ofrecer para su reserva incluir el desayuno y/o regalar un pack de bienvenida (p. ej. bolsa de aseo equipada, cesta de alimentos/bebida ...)._\n",
    "\n",
    "\n",
    "Dependiendo de la brillantez en la exposición del modelo, su rendimiento y los resultados analíticos, Disfrutín iniciará con nosotros una feliz relación de colaboración en tareas de ciencia de datos, o seremos una consultora más quedará atrás tras meter un pufo en el proyecto como impostores."
   ]
  },
  {
   "cell_type": "code",
   "execution_count": 381,
   "metadata": {
    "scrolled": true
   },
   "outputs": [
    {
     "data": {
      "image/png": "[encoded data removed]",
      "text/plain": [
       "<Figure size 432x288 with 1 Axes>"
      ]
     },
     "metadata": {
      "needs_background": "light"
     },
     "output_type": "display_data"
    }
   ],
   "source": [
    "df.groupby('hotel').is_canceled.mean().sort_values().plot.bar(ylim=(0,1))\n",
    "plt.axhline(df.is_canceled.mean(), c='r');\n",
    "plt.grid()"
   ]
  },
  {
   "cell_type": "markdown",
   "metadata": {},
   "source": [
    "Hay un grupo de hoteles que presentan una mayor cantidad de cancelaciones en comparación con el resto."
   ]
  },
  {
   "cell_type": "code",
   "execution_count": 382,
   "metadata": {},
   "outputs": [
    {
     "data": {
      "image/png": "[encoded data removed]",
      "text/plain": [
       "<Figure size 432x288 with 1 Axes>"
      ]
     },
     "metadata": {
      "needs_background": "light"
     },
     "output_type": "display_data"
    }
   ],
   "source": [
    "df.groupby('country').is_canceled.mean().sort_values().plot.bar(ylim=(0,1))\n",
    "plt.axhline(df.is_canceled.mean(), c='r');\n",
    "plt.grid()"
   ]
  },
  {
   "cell_type": "markdown",
   "metadata": {},
   "source": [
    "Parece que el país al que pertenezcan las personas que realizan las reservas influye de cierta manera a la cancelación de la reserva."
   ]
  },
  {
   "cell_type": "code",
   "execution_count": 383,
   "metadata": {},
   "outputs": [
    {
     "data": {
      "image/png": "[encoded data removed]",
      "text/plain": [
       "<Figure size 432x288 with 1 Axes>"
      ]
     },
     "metadata": {
      "needs_background": "light"
     },
     "output_type": "display_data"
    }
   ],
   "source": [
    "df.groupby('room_type').is_canceled.mean().sort_values().plot.bar(ylim=(0,1))\n",
    "plt.axhline(df.is_canceled.mean(), c='r');\n",
    "plt.grid()"
   ]
  },
  {
   "cell_type": "markdown",
   "metadata": {},
   "source": [
    "El tipo de habitación parece que afecta a la cancelación de la reserva."
   ]
  }
 ],
 "metadata": {
  "kernelspec": {
   "display_name": "Python 3",
   "language": "python",
   "name": "python3"
  },
  "language_info": {
   "codemirror_mode": {
    "name": "ipython",
    "version": 3
   },
   "file_extension": ".py",
   "mimetype": "text/x-python",
   "name": "python",
   "nbconvert_exporter": "python",
   "pygments_lexer": "ipython3",
   "version": "3.8.5"
  },
  "toc": {
   "base_numbering": 1,
   "nav_menu": {},
   "number_sections": true,
   "sideBar": true,
   "skip_h1_title": false,
   "title_cell": "Table of Contents",
   "title_sidebar": "Contents",
   "toc_cell": false,
   "toc_position": {},
   "toc_section_display": true,
   "toc_window_display": false
  }
 },
 "nbformat": 4,
 "nbformat_minor": 5
}
